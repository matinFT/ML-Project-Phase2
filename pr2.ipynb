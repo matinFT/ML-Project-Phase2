{
  "nbformat": 4,
  "nbformat_minor": 0,
  "metadata": {
    "colab": {
      "name": "copy ML_Project_Phase2.ipynb",
      "provenance": [],
      "collapsed_sections": [
        "ukSwx3-u36oi",
        "ZG51D0Xx3AXP",
        "9uuUqtUH_13j",
        "5byXdpDk_6iU"
      ],
      "toc_visible": true
    },
    "kernelspec": {
      "display_name": "Python 3",
      "name": "python3"
    },
    "language_info": {
      "name": "python"
    }
  },
  "cells": [
    {
      "cell_type": "markdown",
      "metadata": {
        "id": "8RwFLrCX36T-"
      },
      "source": [
        "<div style=\"direction:rtl;line-height:300%;\">\n",
        "<font face=\"XB Zar\" size=5>\n",
        "<div align=center>\n",
        "    <font size=3>\n",
        "    باسمه تعالی\n",
        "    </font>\n",
        "    <br><br>\n",
        "    <font>\n",
        "    درس یادگیری ماشین\n",
        "    <br>\n",
        "        <font size=3>\n",
        "            مدرس: دکتر سید عباس حسینی\n",
        "        </font>\n",
        "    </font>\n",
        "    <br><br>\n",
        "    <font>\n",
        "        <b>فاز اول پروژه</b>\n",
        "    </font>\n",
        "    <br>\n",
        "        <font size=2>\n",
        "        دانشگاه صنعتی شریف\n",
        "        <br>\n",
        "        دانشکده مهندسی کامپیوتر\n",
        "    </font>\n",
        "</div>\n",
        "</font>\n",
        "</div>"
      ]
    },
    {
      "cell_type": "markdown",
      "metadata": {
        "id": "YagxeyTrk_XR"
      },
      "source": [
        "#Loading train and test data"
      ]
    },
    {
      "cell_type": "code",
      "metadata": {
        "colab": {
          "base_uri": "https://localhost:8080/"
        },
        "id": "YsWQgJl8hZmU",
        "outputId": "1f5b3a89-257c-4f82-991a-f546172984f9"
      },
      "source": [
        "from google.colab import drive\n",
        "drive.mount('/content/drive')"
      ],
      "execution_count": 1,
      "outputs": [
        {
          "output_type": "stream",
          "text": [
            "Mounted at /content/drive\n"
          ],
          "name": "stdout"
        }
      ]
    },
    {
      "cell_type": "code",
      "metadata": {
        "id": "5pd_GMdpEj1A",
        "colab": {
          "base_uri": "https://localhost:8080/"
        },
        "outputId": "a4673311-512f-4e19-a4ee-99d15f55bc88"
      },
      "source": [
        "import os\n",
        "import seaborn as sns\n",
        "%matplotlib inline\n",
        "from matplotlib import pyplot as plt\n",
        "import numpy as np\n",
        "import pandas as pd\n",
        "from wordcloud import WordCloud, STOPWORDS\n",
        "from sklearn.preprocessing import StandardScaler, KBinsDiscretizer, Binarizer, Normalizer, OneHotEncoder\n",
        "from sklearn.feature_extraction.text import TfidfVectorizer\n",
        "from sklearn.linear_model import LogisticRegression\n",
        "from sklearn.pipeline import make_pipeline\n",
        "from sklearn.naive_bayes import GaussianNB, BernoulliNB\n",
        "from sklearn.metrics import classification_report\n",
        "from sklearn import svm\n",
        "from scipy import sparse\n",
        "import scipy\n",
        "from keras.models import Sequential\n",
        "from keras.layers import Dense\n",
        "!pip install eli5\n",
        "import eli5\n",
        "! pip install fasttext\n",
        "import nltk\n",
        "from gensim.models import Word2Vec, FastText"
      ],
      "execution_count": 2,
      "outputs": [
        {
          "output_type": "stream",
          "text": [
            "Collecting eli5\n",
            "\u001b[?25l  Downloading https://files.pythonhosted.org/packages/d1/54/04cab6e1c0ae535bec93f795d8403fdf6caf66fa5a6512263202dbb14ea6/eli5-0.11.0-py2.py3-none-any.whl (106kB)\n",
            "\r\u001b[K     |███                             | 10kB 14.1MB/s eta 0:00:01\r\u001b[K     |██████▏                         | 20kB 20.1MB/s eta 0:00:01\r\u001b[K     |█████████▎                      | 30kB 20.3MB/s eta 0:00:01\r\u001b[K     |████████████▍                   | 40kB 17.6MB/s eta 0:00:01\r\u001b[K     |███████████████▌                | 51kB 7.5MB/s eta 0:00:01\r\u001b[K     |██████████████████▌             | 61kB 7.8MB/s eta 0:00:01\r\u001b[K     |█████████████████████▋          | 71kB 7.9MB/s eta 0:00:01\r\u001b[K     |████████████████████████▊       | 81kB 8.5MB/s eta 0:00:01\r\u001b[K     |███████████████████████████▉    | 92kB 7.9MB/s eta 0:00:01\r\u001b[K     |███████████████████████████████ | 102kB 7.3MB/s eta 0:00:01\r\u001b[K     |████████████████████████████████| 112kB 7.3MB/s \n",
            "\u001b[?25hRequirement already satisfied: jinja2 in /usr/local/lib/python3.7/dist-packages (from eli5) (2.11.3)\n",
            "Requirement already satisfied: attrs>16.0.0 in /usr/local/lib/python3.7/dist-packages (from eli5) (21.2.0)\n",
            "Requirement already satisfied: tabulate>=0.7.7 in /usr/local/lib/python3.7/dist-packages (from eli5) (0.8.9)\n",
            "Requirement already satisfied: six in /usr/local/lib/python3.7/dist-packages (from eli5) (1.15.0)\n",
            "Requirement already satisfied: numpy>=1.9.0 in /usr/local/lib/python3.7/dist-packages (from eli5) (1.19.5)\n",
            "Requirement already satisfied: graphviz in /usr/local/lib/python3.7/dist-packages (from eli5) (0.10.1)\n",
            "Requirement already satisfied: scipy in /usr/local/lib/python3.7/dist-packages (from eli5) (1.4.1)\n",
            "Requirement already satisfied: scikit-learn>=0.20 in /usr/local/lib/python3.7/dist-packages (from eli5) (0.22.2.post1)\n",
            "Requirement already satisfied: MarkupSafe>=0.23 in /usr/local/lib/python3.7/dist-packages (from jinja2->eli5) (2.0.1)\n",
            "Requirement already satisfied: joblib>=0.11 in /usr/local/lib/python3.7/dist-packages (from scikit-learn>=0.20->eli5) (1.0.1)\n",
            "Installing collected packages: eli5\n",
            "Successfully installed eli5-0.11.0\n"
          ],
          "name": "stdout"
        },
        {
          "output_type": "stream",
          "text": [
            "/usr/local/lib/python3.7/dist-packages/sklearn/utils/deprecation.py:144: FutureWarning: The sklearn.feature_selection.base module is  deprecated in version 0.22 and will be removed in version 0.24. The corresponding classes / functions should instead be imported from sklearn.feature_selection. Anything that cannot be imported from sklearn.feature_selection is now part of the private API.\n",
            "  warnings.warn(message, FutureWarning)\n"
          ],
          "name": "stderr"
        },
        {
          "output_type": "stream",
          "text": [
            "Collecting fasttext\n",
            "\u001b[?25l  Downloading https://files.pythonhosted.org/packages/f8/85/e2b368ab6d3528827b147fdb814f8189acc981a4bc2f99ab894650e05c40/fasttext-0.9.2.tar.gz (68kB)\n",
            "\r\u001b[K     |████▊                           | 10kB 12.7MB/s eta 0:00:01\r\u001b[K     |█████████▌                      | 20kB 16.6MB/s eta 0:00:01\r\u001b[K     |██████████████▎                 | 30kB 19.1MB/s eta 0:00:01\r\u001b[K     |███████████████████             | 40kB 19.1MB/s eta 0:00:01\r\u001b[K     |███████████████████████▉        | 51kB 9.0MB/s eta 0:00:01\r\u001b[K     |████████████████████████████▋   | 61kB 10.3MB/s eta 0:00:01\r\u001b[K     |████████████████████████████████| 71kB 4.9MB/s \n",
            "\u001b[?25hRequirement already satisfied: pybind11>=2.2 in /usr/local/lib/python3.7/dist-packages (from fasttext) (2.6.2)\n",
            "Requirement already satisfied: setuptools>=0.7.0 in /usr/local/lib/python3.7/dist-packages (from fasttext) (57.0.0)\n",
            "Requirement already satisfied: numpy in /usr/local/lib/python3.7/dist-packages (from fasttext) (1.19.5)\n",
            "Building wheels for collected packages: fasttext\n",
            "  Building wheel for fasttext (setup.py) ... \u001b[?25l\u001b[?25hdone\n",
            "  Created wheel for fasttext: filename=fasttext-0.9.2-cp37-cp37m-linux_x86_64.whl size=3098333 sha256=f1bdd2df628bea2263c586f16e04c46d5f3587c36f8761146a17dee5b2468d03\n",
            "  Stored in directory: /root/.cache/pip/wheels/98/ba/7f/b154944a1cf5a8cee91c154b75231136cc3a3321ab0e30f592\n",
            "Successfully built fasttext\n",
            "Installing collected packages: fasttext\n",
            "Successfully installed fasttext-0.9.2\n"
          ],
          "name": "stdout"
        }
      ]
    },
    {
      "cell_type": "code",
      "metadata": {
        "colab": {
          "base_uri": "https://localhost:8080/",
          "height": 204
        },
        "id": "EITKV-Bxj29s",
        "outputId": "48d1e44a-d084-47e4-a84a-26a9f54c380e"
      },
      "source": [
        "file_name = '/content/drive/MyDrive/ML_Phase2_Datasets/sarcasm_train_set.csv'\n",
        "train_data = pd.read_csv(file_name, index_col=0)\n",
        "file_name = '/content/drive/MyDrive/ML_Phase2_Datasets/sarcasm_test_set.csv'\n",
        "test_data = pd.read_csv(file_name, index_col=0)\n",
        "train_data.head()"
      ],
      "execution_count": 3,
      "outputs": [
        {
          "output_type": "execute_result",
          "data": {
            "text/html": [
              "<div>\n",
              "<style scoped>\n",
              "    .dataframe tbody tr th:only-of-type {\n",
              "        vertical-align: middle;\n",
              "    }\n",
              "\n",
              "    .dataframe tbody tr th {\n",
              "        vertical-align: top;\n",
              "    }\n",
              "\n",
              "    .dataframe thead th {\n",
              "        text-align: right;\n",
              "    }\n",
              "</style>\n",
              "<table border=\"1\" class=\"dataframe\">\n",
              "  <thead>\n",
              "    <tr style=\"text-align: right;\">\n",
              "      <th></th>\n",
              "      <th>label</th>\n",
              "      <th>comment</th>\n",
              "      <th>author</th>\n",
              "      <th>subreddit</th>\n",
              "      <th>score</th>\n",
              "      <th>ups</th>\n",
              "      <th>downs</th>\n",
              "      <th>date</th>\n",
              "      <th>created_utc</th>\n",
              "      <th>parent_comment</th>\n",
              "    </tr>\n",
              "  </thead>\n",
              "  <tbody>\n",
              "    <tr>\n",
              "      <th>0</th>\n",
              "      <td>0</td>\n",
              "      <td>NC and NH.</td>\n",
              "      <td>Trumpbart</td>\n",
              "      <td>politics</td>\n",
              "      <td>2</td>\n",
              "      <td>-1</td>\n",
              "      <td>-1</td>\n",
              "      <td>2016-10</td>\n",
              "      <td>2016-10-16 23:55:23</td>\n",
              "      <td>Yeah, I get that argument. At this point, I'd ...</td>\n",
              "    </tr>\n",
              "    <tr>\n",
              "      <th>1</th>\n",
              "      <td>0</td>\n",
              "      <td>You do know west teams play against west teams...</td>\n",
              "      <td>Shbshb906</td>\n",
              "      <td>nba</td>\n",
              "      <td>-4</td>\n",
              "      <td>-1</td>\n",
              "      <td>-1</td>\n",
              "      <td>2016-11</td>\n",
              "      <td>2016-11-01 00:24:10</td>\n",
              "      <td>The blazers and Mavericks (The wests 5 and 6 s...</td>\n",
              "    </tr>\n",
              "    <tr>\n",
              "      <th>2</th>\n",
              "      <td>0</td>\n",
              "      <td>They were underdogs earlier today, but since G...</td>\n",
              "      <td>Creepeth</td>\n",
              "      <td>nfl</td>\n",
              "      <td>3</td>\n",
              "      <td>3</td>\n",
              "      <td>0</td>\n",
              "      <td>2016-09</td>\n",
              "      <td>2016-09-22 21:45:37</td>\n",
              "      <td>They're favored to win.</td>\n",
              "    </tr>\n",
              "    <tr>\n",
              "      <th>3</th>\n",
              "      <td>0</td>\n",
              "      <td>This meme isn't funny none of the \"new york ni...</td>\n",
              "      <td>icebrotha</td>\n",
              "      <td>BlackPeopleTwitter</td>\n",
              "      <td>-8</td>\n",
              "      <td>-1</td>\n",
              "      <td>-1</td>\n",
              "      <td>2016-10</td>\n",
              "      <td>2016-10-18 21:03:47</td>\n",
              "      <td>deadass don't kill my buzz</td>\n",
              "    </tr>\n",
              "    <tr>\n",
              "      <th>5</th>\n",
              "      <td>0</td>\n",
              "      <td>I don't pay attention to her, but as long as s...</td>\n",
              "      <td>only7inches</td>\n",
              "      <td>AskReddit</td>\n",
              "      <td>0</td>\n",
              "      <td>0</td>\n",
              "      <td>0</td>\n",
              "      <td>2016-09</td>\n",
              "      <td>2016-09-02 10:35:08</td>\n",
              "      <td>do you find ariana grande sexy ?</td>\n",
              "    </tr>\n",
              "  </tbody>\n",
              "</table>\n",
              "</div>"
            ],
            "text/plain": [
              "   label  ...                                     parent_comment\n",
              "0      0  ...  Yeah, I get that argument. At this point, I'd ...\n",
              "1      0  ...  The blazers and Mavericks (The wests 5 and 6 s...\n",
              "2      0  ...                            They're favored to win.\n",
              "3      0  ...                         deadass don't kill my buzz\n",
              "5      0  ...                   do you find ariana grande sexy ?\n",
              "\n",
              "[5 rows x 10 columns]"
            ]
          },
          "metadata": {
            "tags": []
          },
          "execution_count": 3
        }
      ]
    },
    {
      "cell_type": "code",
      "metadata": {
        "colab": {
          "base_uri": "https://localhost:8080/"
        },
        "id": "6f39YPYCfrGn",
        "outputId": "f35ccd79-4af7-4d8c-9395-3464bdc32ffd"
      },
      "source": [
        "train_data.info()"
      ],
      "execution_count": null,
      "outputs": [
        {
          "output_type": "stream",
          "text": [
            "<class 'pandas.core.frame.DataFrame'>\n",
            "RangeIndex: 808998 entries, 0 to 808997\n",
            "Data columns (total 11 columns):\n",
            " #   Column          Non-Null Count   Dtype \n",
            "---  ------          --------------   ----- \n",
            " 0   Unnamed: 0      808998 non-null  int64 \n",
            " 1   label           808998 non-null  int64 \n",
            " 2   comment         808960 non-null  object\n",
            " 3   author          808998 non-null  object\n",
            " 4   subreddit       808998 non-null  object\n",
            " 5   score           808998 non-null  int64 \n",
            " 6   ups             808998 non-null  int64 \n",
            " 7   downs           808998 non-null  int64 \n",
            " 8   date            808998 non-null  object\n",
            " 9   created_utc     808998 non-null  object\n",
            " 10  parent_comment  808998 non-null  object\n",
            "dtypes: int64(5), object(6)\n",
            "memory usage: 67.9+ MB\n"
          ],
          "name": "stdout"
        }
      ]
    },
    {
      "cell_type": "code",
      "metadata": {
        "colab": {
          "base_uri": "https://localhost:8080/"
        },
        "id": "kCuYkG8C3xwD",
        "outputId": "fd671314-1c4a-48d1-86f0-0e56c3bfab94"
      },
      "source": [
        "test_data.info()"
      ],
      "execution_count": null,
      "outputs": [
        {
          "output_type": "stream",
          "text": [
            "<class 'pandas.core.frame.DataFrame'>\n",
            "RangeIndex: 201828 entries, 0 to 201827\n",
            "Data columns (total 11 columns):\n",
            " #   Column          Non-Null Count   Dtype \n",
            "---  ------          --------------   ----- \n",
            " 0   Unnamed: 0      201828 non-null  int64 \n",
            " 1   label           201828 non-null  int64 \n",
            " 2   comment         201813 non-null  object\n",
            " 3   author          201828 non-null  object\n",
            " 4   subreddit       201828 non-null  object\n",
            " 5   score           201828 non-null  int64 \n",
            " 6   ups             201828 non-null  int64 \n",
            " 7   downs           201828 non-null  int64 \n",
            " 8   date            201828 non-null  object\n",
            " 9   created_utc     201828 non-null  object\n",
            " 10  parent_comment  201828 non-null  object\n",
            "dtypes: int64(5), object(6)\n",
            "memory usage: 16.9+ MB\n"
          ],
          "name": "stdout"
        }
      ]
    },
    {
      "cell_type": "markdown",
      "metadata": {
        "id": "ayu8r7ArgZop"
      },
      "source": [
        "# <p style=\"font-size:40px; text-align: right;\" ><b>EDA</b></p>\n"
      ]
    },
    {
      "cell_type": "markdown",
      "metadata": {
        "id": "ZO5tN6tI4JB7"
      },
      "source": [
        "<br><p style=\"font-size:20px; text-align: right;line-height:30px;\" >\n",
        "در ابتدا مقادیر یکتای هرکدام از ستون ها و سپس تعداد سلول های خالی داده مورد نظر را ببرسی میکنیم. همانطور که مشاهده میشود داده در تعدا بسیار کمی از سلول ها خالی است که آن هم فقط مربوط به یک ستون است\n",
        " </p>"
      ]
    },
    {
      "cell_type": "code",
      "metadata": {
        "colab": {
          "base_uri": "https://localhost:8080/"
        },
        "id": "h8Pkiifvfy67",
        "outputId": "ceaf75f6-b1e2-4486-9e43-c7cca4d08628"
      },
      "source": [
        "for col in train_data.columns:\n",
        "    print(col, len(train_data[col].unique()))"
      ],
      "execution_count": null,
      "outputs": [
        {
          "output_type": "stream",
          "text": [
            "Unnamed: 0 808998\n",
            "label 2\n",
            "comment 772481\n",
            "author 249291\n",
            "subreddit 13617\n",
            "score 1183\n",
            "ups 1068\n",
            "downs 2\n",
            "date 96\n",
            "created_utc 805032\n",
            "parent_comment 790289\n"
          ],
          "name": "stdout"
        }
      ]
    },
    {
      "cell_type": "code",
      "metadata": {
        "colab": {
          "base_uri": "https://localhost:8080/"
        },
        "id": "8obEKx6MbAzu",
        "outputId": "4227e670-fec7-4f0d-884e-72805ff5c3af"
      },
      "source": [
        "train_data.isna().sum()"
      ],
      "execution_count": null,
      "outputs": [
        {
          "output_type": "execute_result",
          "data": {
            "text/plain": [
              "Unnamed: 0         0\n",
              "label              0\n",
              "comment           38\n",
              "author             0\n",
              "subreddit          0\n",
              "score              0\n",
              "ups                0\n",
              "downs              0\n",
              "date               0\n",
              "created_utc        0\n",
              "parent_comment     0\n",
              "dtype: int64"
            ]
          },
          "metadata": {
            "tags": []
          },
          "execution_count": 48
        }
      ]
    },
    {
      "cell_type": "code",
      "metadata": {
        "colab": {
          "base_uri": "https://localhost:8080/"
        },
        "id": "zr5U4ZXl4C9J",
        "outputId": "fa3f8f3e-8ed1-40e1-c0b1-735151a3f3f5"
      },
      "source": [
        "test_data.isna().sum()"
      ],
      "execution_count": null,
      "outputs": [
        {
          "output_type": "execute_result",
          "data": {
            "text/plain": [
              "Unnamed: 0         0\n",
              "label              0\n",
              "comment           15\n",
              "author             0\n",
              "subreddit          0\n",
              "score              0\n",
              "ups                0\n",
              "downs              0\n",
              "date               0\n",
              "created_utc        0\n",
              "parent_comment     0\n",
              "dtype: int64"
            ]
          },
          "metadata": {
            "tags": []
          },
          "execution_count": 67
        }
      ]
    },
    {
      "cell_type": "markdown",
      "metadata": {
        "id": "O9ewHzts4que"
      },
      "source": [
        "<br><p style=\"font-size:20px; text-align: right;line-height:30px;\" >\n",
        "در ابتدا باید بررسی کنیم ببینیم ایا کلاس های مسئله ballanced هستند یا نه. همانطور که مشاهده میشود به تعداد یکسانی از هر کدام از کلاس ها در داده موجود میباشد\n",
        " </p>"
      ]
    },
    {
      "cell_type": "code",
      "metadata": {
        "colab": {
          "base_uri": "https://localhost:8080/",
          "height": 279
        },
        "id": "ePZVoeFNfzMD",
        "outputId": "94625f07-7e6c-4925-8665-d226da4d3cf2"
      },
      "source": [
        "sns.countplot(x=train_data['label']);"
      ],
      "execution_count": null,
      "outputs": [
        {
          "output_type": "display_data",
          "data": {
            "image/png": "[encoded data removed]",
            "text/plain": [
              "<Figure size 432x288 with 1 Axes>"
            ]
          },
          "metadata": {
            "tags": [],
            "needs_background": "light"
          }
        }
      ]
    },
    {
      "cell_type": "markdown",
      "metadata": {
        "id": "GYr642Zy5GU3"
      },
      "source": [
        "<br><p style=\"font-size:20px; text-align: right;line-height:30px;direction:RTL;\" >\n",
        "حال میخواهیم تاثیر ستون downs را مشاهده کنیم. نمودار زیر تعداد نمونه های هرکلاس را با توجه به مقدار downs نشان میدهد. همانطور که مشاهده میشود در نسبت کلاس ها با توجه به هرکدام از مقادیر downs باهم برابر است و مقدار این ستون اطلاعات خاصی را به ما نمیدهد\n",
        " </p>"
      ]
    },
    {
      "cell_type": "code",
      "metadata": {
        "colab": {
          "base_uri": "https://localhost:8080/",
          "height": 279
        },
        "id": "Ccb2gcO3h89D",
        "outputId": "38e869cb-44cb-4354-a88f-5928b816b7ad"
      },
      "source": [
        "sns.countplot(data=train_data, x='downs', hue='label');"
      ],
      "execution_count": null,
      "outputs": [
        {
          "output_type": "display_data",
          "data": {
            "image/png": "[encoded data removed]",
            "text/plain": [
              "<Figure size 432x288 with 1 Axes>"
            ]
          },
          "metadata": {
            "tags": [],
            "needs_background": "light"
          }
        }
      ]
    },
    {
      "cell_type": "markdown",
      "metadata": {
        "id": "sd3uk3sq5qhw"
      },
      "source": [
        "<br><p style=\"font-size:20px; text-align: right;line-height:30px;direction:RTL;\" >\n",
        "نمودار زیر نیز یک نمودار جعبه ای روی مقادیر ستون score است. همانطور که مشاهده میشود مقادیر این ستون تمرکز و چگالی زیادی نزدیک مقدار 0 دارد\n",
        " </p>"
      ]
    },
    {
      "cell_type": "code",
      "metadata": {
        "colab": {
          "base_uri": "https://localhost:8080/",
          "height": 279
        },
        "id": "PqOXTgOakR3P",
        "outputId": "1bcaa7e3-98e3-46e2-ecf0-90b558fd693f"
      },
      "source": [
        "sns.boxplot(data = train_data, x=\"label\", y=\"score\");"
      ],
      "execution_count": null,
      "outputs": [
        {
          "output_type": "display_data",
          "data": {
            "image/png": "[encoded data removed]",
            "text/plain": [
              "<Figure size 432x288 with 1 Axes>"
            ]
          },
          "metadata": {
            "tags": [],
            "needs_background": "light"
          }
        }
      ]
    },
    {
      "cell_type": "markdown",
      "metadata": {
        "id": "nPjN5PBk590x"
      },
      "source": [
        "<br><p style=\"font-size:20px; text-align: right;line-height:30px;direction:RTL;\" >\n",
        "در نمودار زیر طول کامنت ها را بررسی کرده ایم. البته از لگاریتم طول کامنت ها استفاده شده است. همانطور که مشاهده میشود تمرکز طول کانت ها نیز حول مقدار 3 تا 4 است\n",
        " </p>"
      ]
    },
    {
      "cell_type": "code",
      "metadata": {
        "colab": {
          "base_uri": "https://localhost:8080/",
          "height": 265
        },
        "id": "bR3eKgucf8WW",
        "outputId": "398bce04-dfed-4742-b70c-871b9731c6ef"
      },
      "source": [
        "train_data[\"comment\"].apply(lambda x: np.log(len(str(x)))).hist(alpha = 0.6, bins = 10);"
      ],
      "execution_count": null,
      "outputs": [
        {
          "output_type": "display_data",
          "data": {
            "image/png": "[encoded data removed]",
            "text/plain": [
              "<Figure size 432x288 with 1 Axes>"
            ]
          },
          "metadata": {
            "tags": [],
            "needs_background": "light"
          }
        }
      ]
    },
    {
      "cell_type": "markdown",
      "metadata": {
        "id": "BIxexIlI6NlH"
      },
      "source": [
        "<br><p style=\"font-size:20px; text-align: right;line-height:30px;direction:RTL;\" >\n",
        "حال میخواهیم ببینم چه کلمه هایی هستند که در کامنت های دارای کنایه زیاد تکرار شده اند. شکل زیر این کلمه ها را به ما نشان میدهد\n",
        " </p>"
      ]
    },
    {
      "cell_type": "code",
      "metadata": {
        "colab": {
          "base_uri": "https://localhost:8080/",
          "height": 386
        },
        "id": "xqbj6P_wf8Yx",
        "outputId": "047b294e-9ddd-45e0-db41-cd0932dd743a"
      },
      "source": [
        "wordcloud = WordCloud(background_color='black', stopwords = STOPWORDS,\n",
        "                max_words = 200, max_font_size = 100, \n",
        "                random_state = 17, width=800, height=400)\n",
        "\n",
        "plt.figure(figsize=(12, 12))\n",
        "wordcloud.generate(str(train_data.loc[train_data['label'] == 1, 'comment']))\n",
        "plt.grid(b= False)\n",
        "plt.imshow(wordcloud);"
      ],
      "execution_count": null,
      "outputs": [
        {
          "output_type": "display_data",
          "data": {
            "image/png": "[encoded data removed]",
            "text/plain": [
              "<Figure size 864x864 with 1 Axes>"
            ]
          },
          "metadata": {
            "tags": [],
            "needs_background": "light"
          }
        }
      ]
    },
    {
      "cell_type": "markdown",
      "metadata": {
        "id": "YBi56Fs56hjZ"
      },
      "source": [
        "<br><p style=\"font-size:20px; text-align: right;line-height:30px;direction:RTL;\" >\n",
        "حال میخواهیم نسبت طول کامنت به کامنت والدش را بررسی کنیم. همانطور که در شکل زیر نشان داده شده است به نظر میرسد طول کامنت با طول کامنت والد خود نسبت معکوس دارد و هرچقدر طول کامنت والد زیاد شده طول کامنت فرزند کاهش میابد و برعکس \n",
        " </p>"
      ]
    },
    {
      "cell_type": "code",
      "metadata": {
        "colab": {
          "base_uri": "https://localhost:8080/",
          "height": 283
        },
        "id": "tbopqcNtf8fK",
        "outputId": "d9b94dc2-7512-4226-8586-436808e64e77"
      },
      "source": [
        "length_df = pd.DataFrame({\"Comment Length\": train_data[\"comment\"].apply(lambda x: len(str(x))),\n",
        "                          \"Parent Comment Length\": train_data[\"parent_comment\"].apply(lambda x: len(str(x)))})\n",
        "ax = plt.axes()\n",
        "sns.scatterplot(data=length_df, x=\"Comment Length\", y=\"Parent Comment Length\")\n",
        "# control x and y limits\n",
        "plt.ylim(0, 12000)\n",
        "plt.xlim(0, 800)\n",
        "plt.show()"
      ],
      "execution_count": null,
      "outputs": [
        {
          "output_type": "display_data",
          "data": {
            "image/png": "[encoded data removed]",
            "text/plain": [
              "<Figure size 432x288 with 1 Axes>"
            ]
          },
          "metadata": {
            "tags": [],
            "needs_background": "light"
          }
        }
      ]
    },
    {
      "cell_type": "markdown",
      "metadata": {
        "id": "lPOMgKtK62Ha"
      },
      "source": [
        "<br><p style=\"font-size:20px; text-align: right;line-height:30px;direction:RTL;\" >\n",
        "حال میخواهیم تاثیر موضوعات مختلف کامنت را برروی داشتن کنایه در آن بررسی کنیم. در ابتدا یک دیتافریم میسازیم که هر موضوع و تعداد کامنت هایی کل و کامنت هایی که دارای کنایه هستند و مربوط به آن موضوع اند را دارد\n",
        " </p>"
      ]
    },
    {
      "cell_type": "code",
      "metadata": {
        "id": "hJid4GhWgJWA"
      },
      "source": [
        "subreddit_df = pd.DataFrame({\"sarcastic\": train_data.loc[train_data[\"label\"]==1, \"subreddit\"].value_counts(),\n",
        "                             \"total\": train_data[\"subreddit\"].value_counts()})\n",
        "subreddit_df.fillna(0, inplace = True)\n",
        "subreddit_df[\"sarcasm_ratio\"] = subreddit_df[\"sarcastic\"] / subreddit_df[\"total\"]\n",
        "mean_subreddit_count = np.mean(subreddit_df[\"total\"])"
      ],
      "execution_count": 4,
      "outputs": []
    },
    {
      "cell_type": "markdown",
      "metadata": {
        "id": "anwxK_C17LZ3"
      },
      "source": [
        "<br><p style=\"font-size:20px; text-align: right;line-height:30px;direction:RTL;\" >\n",
        "همانطور که مشاهده میشود میانگین کامنت های مرتبط با یک موضوع حدودا 60 است\n",
        " </p>"
      ]
    },
    {
      "cell_type": "code",
      "metadata": {
        "colab": {
          "base_uri": "https://localhost:8080/"
        },
        "id": "pJtXZMRFbiHj",
        "outputId": "05159605-81f4-4fa3-e58e-a4c22799568e"
      },
      "source": [
        "mean_subreddit_count"
      ],
      "execution_count": null,
      "outputs": [
        {
          "output_type": "execute_result",
          "data": {
            "text/plain": [
              "59.410883454505395"
            ]
          },
          "metadata": {
            "tags": []
          },
          "execution_count": 56
        }
      ]
    },
    {
      "cell_type": "markdown",
      "metadata": {
        "id": "CtAlivar7UdG"
      },
      "source": [
        "<br><p style=\"font-size:20px; text-align: right;line-height:30px;direction:RTL;\" >\n",
        "حال برترین موضوعات براساس نسبت کامنت های کنایه دار را بدست میاوریم. همچنین این شرط را قرار میدهیم که تعداد کامنت های مرتبط با این موضوع باید بیشتر از میانگین باشد\n",
        " </p>"
      ]
    },
    {
      "cell_type": "code",
      "metadata": {
        "colab": {
          "base_uri": "https://localhost:8080/",
          "height": 979
        },
        "id": "fQe2dpghgL_Y",
        "outputId": "222883d1-fcd9-4332-f861-185a7e0e0972"
      },
      "source": [
        "subreddit_df.sort_values(by=\"sarcasm_ratio\", ascending=False).query(\"total > {}\".format(mean_subreddit_count)).head(30)"
      ],
      "execution_count": null,
      "outputs": [
        {
          "output_type": "execute_result",
          "data": {
            "text/html": [
              "<div>\n",
              "<style scoped>\n",
              "    .dataframe tbody tr th:only-of-type {\n",
              "        vertical-align: middle;\n",
              "    }\n",
              "\n",
              "    .dataframe tbody tr th {\n",
              "        vertical-align: top;\n",
              "    }\n",
              "\n",
              "    .dataframe thead th {\n",
              "        text-align: right;\n",
              "    }\n",
              "</style>\n",
              "<table border=\"1\" class=\"dataframe\">\n",
              "  <thead>\n",
              "    <tr style=\"text-align: right;\">\n",
              "      <th></th>\n",
              "      <th>sarcastic</th>\n",
              "      <th>total</th>\n",
              "      <th>sarcasm_ratio</th>\n",
              "    </tr>\n",
              "  </thead>\n",
              "  <tbody>\n",
              "    <tr>\n",
              "      <th>creepyPMs</th>\n",
              "      <td>3449.0</td>\n",
              "      <td>4381</td>\n",
              "      <td>0.787263</td>\n",
              "    </tr>\n",
              "    <tr>\n",
              "      <th>AnythingGoesNews</th>\n",
              "      <td>63.0</td>\n",
              "      <td>85</td>\n",
              "      <td>0.741176</td>\n",
              "    </tr>\n",
              "    <tr>\n",
              "      <th>PussyPass</th>\n",
              "      <td>51.0</td>\n",
              "      <td>69</td>\n",
              "      <td>0.739130</td>\n",
              "    </tr>\n",
              "    <tr>\n",
              "      <th>circlebroke</th>\n",
              "      <td>103.0</td>\n",
              "      <td>141</td>\n",
              "      <td>0.730496</td>\n",
              "    </tr>\n",
              "    <tr>\n",
              "      <th>libertarianmeme</th>\n",
              "      <td>54.0</td>\n",
              "      <td>74</td>\n",
              "      <td>0.729730</td>\n",
              "    </tr>\n",
              "    <tr>\n",
              "      <th>ontario</th>\n",
              "      <td>54.0</td>\n",
              "      <td>74</td>\n",
              "      <td>0.729730</td>\n",
              "    </tr>\n",
              "    <tr>\n",
              "      <th>AndroidMasterRace</th>\n",
              "      <td>89.0</td>\n",
              "      <td>122</td>\n",
              "      <td>0.729508</td>\n",
              "    </tr>\n",
              "    <tr>\n",
              "      <th>ShitPoliticsSays</th>\n",
              "      <td>160.0</td>\n",
              "      <td>222</td>\n",
              "      <td>0.720721</td>\n",
              "    </tr>\n",
              "    <tr>\n",
              "      <th>progun</th>\n",
              "      <td>307.0</td>\n",
              "      <td>432</td>\n",
              "      <td>0.710648</td>\n",
              "    </tr>\n",
              "    <tr>\n",
              "      <th>wisconsin</th>\n",
              "      <td>121.0</td>\n",
              "      <td>171</td>\n",
              "      <td>0.707602</td>\n",
              "    </tr>\n",
              "    <tr>\n",
              "      <th>environment</th>\n",
              "      <td>203.0</td>\n",
              "      <td>291</td>\n",
              "      <td>0.697595</td>\n",
              "    </tr>\n",
              "    <tr>\n",
              "      <th>rage</th>\n",
              "      <td>484.0</td>\n",
              "      <td>694</td>\n",
              "      <td>0.697406</td>\n",
              "    </tr>\n",
              "    <tr>\n",
              "      <th>Feminism</th>\n",
              "      <td>57.0</td>\n",
              "      <td>82</td>\n",
              "      <td>0.695122</td>\n",
              "    </tr>\n",
              "    <tr>\n",
              "      <th>exchristian</th>\n",
              "      <td>50.0</td>\n",
              "      <td>72</td>\n",
              "      <td>0.694444</td>\n",
              "    </tr>\n",
              "    <tr>\n",
              "      <th>rant</th>\n",
              "      <td>49.0</td>\n",
              "      <td>71</td>\n",
              "      <td>0.690141</td>\n",
              "    </tr>\n",
              "    <tr>\n",
              "      <th>inthenews</th>\n",
              "      <td>60.0</td>\n",
              "      <td>87</td>\n",
              "      <td>0.689655</td>\n",
              "    </tr>\n",
              "    <tr>\n",
              "      <th>badwomensanatomy</th>\n",
              "      <td>93.0</td>\n",
              "      <td>135</td>\n",
              "      <td>0.688889</td>\n",
              "    </tr>\n",
              "    <tr>\n",
              "      <th>Xenoblade_Chronicles</th>\n",
              "      <td>97.0</td>\n",
              "      <td>141</td>\n",
              "      <td>0.687943</td>\n",
              "    </tr>\n",
              "    <tr>\n",
              "      <th>skeptic</th>\n",
              "      <td>189.0</td>\n",
              "      <td>275</td>\n",
              "      <td>0.687273</td>\n",
              "    </tr>\n",
              "    <tr>\n",
              "      <th>Bad_Cop_No_Donut</th>\n",
              "      <td>490.0</td>\n",
              "      <td>715</td>\n",
              "      <td>0.685315</td>\n",
              "    </tr>\n",
              "    <tr>\n",
              "      <th>BasicIncome</th>\n",
              "      <td>58.0</td>\n",
              "      <td>85</td>\n",
              "      <td>0.682353</td>\n",
              "    </tr>\n",
              "    <tr>\n",
              "      <th>ShitLiberalsSay</th>\n",
              "      <td>60.0</td>\n",
              "      <td>88</td>\n",
              "      <td>0.681818</td>\n",
              "    </tr>\n",
              "    <tr>\n",
              "      <th>MensRights</th>\n",
              "      <td>1851.0</td>\n",
              "      <td>2726</td>\n",
              "      <td>0.679017</td>\n",
              "    </tr>\n",
              "    <tr>\n",
              "      <th>Marijuana</th>\n",
              "      <td>55.0</td>\n",
              "      <td>81</td>\n",
              "      <td>0.679012</td>\n",
              "    </tr>\n",
              "    <tr>\n",
              "      <th>GunsAreCool</th>\n",
              "      <td>167.0</td>\n",
              "      <td>246</td>\n",
              "      <td>0.678862</td>\n",
              "    </tr>\n",
              "    <tr>\n",
              "      <th>ainbow</th>\n",
              "      <td>143.0</td>\n",
              "      <td>211</td>\n",
              "      <td>0.677725</td>\n",
              "    </tr>\n",
              "    <tr>\n",
              "      <th>PanicHistory</th>\n",
              "      <td>42.0</td>\n",
              "      <td>62</td>\n",
              "      <td>0.677419</td>\n",
              "    </tr>\n",
              "    <tr>\n",
              "      <th>lostgeneration</th>\n",
              "      <td>134.0</td>\n",
              "      <td>199</td>\n",
              "      <td>0.673367</td>\n",
              "    </tr>\n",
              "    <tr>\n",
              "      <th>lgbt</th>\n",
              "      <td>173.0</td>\n",
              "      <td>257</td>\n",
              "      <td>0.673152</td>\n",
              "    </tr>\n",
              "    <tr>\n",
              "      <th>economy</th>\n",
              "      <td>119.0</td>\n",
              "      <td>178</td>\n",
              "      <td>0.668539</td>\n",
              "    </tr>\n",
              "  </tbody>\n",
              "</table>\n",
              "</div>"
            ],
            "text/plain": [
              "                      sarcastic  total  sarcasm_ratio\n",
              "creepyPMs                3449.0   4381       0.787263\n",
              "AnythingGoesNews           63.0     85       0.741176\n",
              "PussyPass                  51.0     69       0.739130\n",
              "circlebroke               103.0    141       0.730496\n",
              "libertarianmeme            54.0     74       0.729730\n",
              "ontario                    54.0     74       0.729730\n",
              "AndroidMasterRace          89.0    122       0.729508\n",
              "ShitPoliticsSays          160.0    222       0.720721\n",
              "progun                    307.0    432       0.710648\n",
              "wisconsin                 121.0    171       0.707602\n",
              "environment               203.0    291       0.697595\n",
              "rage                      484.0    694       0.697406\n",
              "Feminism                   57.0     82       0.695122\n",
              "exchristian                50.0     72       0.694444\n",
              "rant                       49.0     71       0.690141\n",
              "inthenews                  60.0     87       0.689655\n",
              "badwomensanatomy           93.0    135       0.688889\n",
              "Xenoblade_Chronicles       97.0    141       0.687943\n",
              "skeptic                   189.0    275       0.687273\n",
              "Bad_Cop_No_Donut          490.0    715       0.685315\n",
              "BasicIncome                58.0     85       0.682353\n",
              "ShitLiberalsSay            60.0     88       0.681818\n",
              "MensRights               1851.0   2726       0.679017\n",
              "Marijuana                  55.0     81       0.679012\n",
              "GunsAreCool               167.0    246       0.678862\n",
              "ainbow                    143.0    211       0.677725\n",
              "PanicHistory               42.0     62       0.677419\n",
              "lostgeneration            134.0    199       0.673367\n",
              "lgbt                      173.0    257       0.673152\n",
              "economy                   119.0    178       0.668539"
            ]
          },
          "metadata": {
            "tags": []
          },
          "execution_count": 57
        }
      ]
    },
    {
      "cell_type": "markdown",
      "metadata": {
        "id": "EM18XGOP7pVu"
      },
      "source": [
        "<br><p style=\"font-size:20px; text-align: right;line-height:30px;direction:RTL;\" >\n",
        "قسمت زیر نیز موضوعاتی که کمترین کنایه در آنها یافت میشود را نشان میدهد. همچنین تعداد کامنت های مرتبط با آنها نیز باید بیشتر از حد متوسط باشد\n",
        " </p>"
      ]
    },
    {
      "cell_type": "code",
      "metadata": {
        "colab": {
          "base_uri": "https://localhost:8080/",
          "height": 979
        },
        "id": "jgIgj9xVZy9K",
        "outputId": "97017298-9292-48b6-9353-0fecdbf5d82a"
      },
      "source": [
        "subreddit_df.sort_values(by=\"sarcasm_ratio\", ascending=True).query(\"total > {}\".format(mean_subreddit_count)).head(30)"
      ],
      "execution_count": null,
      "outputs": [
        {
          "output_type": "execute_result",
          "data": {
            "text/html": [
              "<div>\n",
              "<style scoped>\n",
              "    .dataframe tbody tr th:only-of-type {\n",
              "        vertical-align: middle;\n",
              "    }\n",
              "\n",
              "    .dataframe tbody tr th {\n",
              "        vertical-align: top;\n",
              "    }\n",
              "\n",
              "    .dataframe thead th {\n",
              "        text-align: right;\n",
              "    }\n",
              "</style>\n",
              "<table border=\"1\" class=\"dataframe\">\n",
              "  <thead>\n",
              "    <tr style=\"text-align: right;\">\n",
              "      <th></th>\n",
              "      <th>sarcastic</th>\n",
              "      <th>total</th>\n",
              "      <th>sarcasm_ratio</th>\n",
              "    </tr>\n",
              "  </thead>\n",
              "  <tbody>\n",
              "    <tr>\n",
              "      <th>onewordeach</th>\n",
              "      <td>0.0</td>\n",
              "      <td>94</td>\n",
              "      <td>0.000000</td>\n",
              "    </tr>\n",
              "    <tr>\n",
              "      <th>AskOuija</th>\n",
              "      <td>0.0</td>\n",
              "      <td>123</td>\n",
              "      <td>0.000000</td>\n",
              "    </tr>\n",
              "    <tr>\n",
              "      <th>CatsStandingUp</th>\n",
              "      <td>0.0</td>\n",
              "      <td>79</td>\n",
              "      <td>0.000000</td>\n",
              "    </tr>\n",
              "    <tr>\n",
              "      <th>friendsafari</th>\n",
              "      <td>1.0</td>\n",
              "      <td>110</td>\n",
              "      <td>0.009091</td>\n",
              "    </tr>\n",
              "    <tr>\n",
              "      <th>Fireteams</th>\n",
              "      <td>16.0</td>\n",
              "      <td>417</td>\n",
              "      <td>0.038369</td>\n",
              "    </tr>\n",
              "    <tr>\n",
              "      <th>pokemontrades</th>\n",
              "      <td>10.0</td>\n",
              "      <td>165</td>\n",
              "      <td>0.060606</td>\n",
              "    </tr>\n",
              "    <tr>\n",
              "      <th>IASIP</th>\n",
              "      <td>9.0</td>\n",
              "      <td>92</td>\n",
              "      <td>0.097826</td>\n",
              "    </tr>\n",
              "    <tr>\n",
              "      <th>RoastMe</th>\n",
              "      <td>54.0</td>\n",
              "      <td>513</td>\n",
              "      <td>0.105263</td>\n",
              "    </tr>\n",
              "    <tr>\n",
              "      <th>circlejerk</th>\n",
              "      <td>41.0</td>\n",
              "      <td>339</td>\n",
              "      <td>0.120944</td>\n",
              "    </tr>\n",
              "    <tr>\n",
              "      <th>me_irl</th>\n",
              "      <td>72.0</td>\n",
              "      <td>569</td>\n",
              "      <td>0.126538</td>\n",
              "    </tr>\n",
              "    <tr>\n",
              "      <th>ScenesFromAHat</th>\n",
              "      <td>12.0</td>\n",
              "      <td>86</td>\n",
              "      <td>0.139535</td>\n",
              "    </tr>\n",
              "    <tr>\n",
              "      <th>shittyaskscience</th>\n",
              "      <td>25.0</td>\n",
              "      <td>176</td>\n",
              "      <td>0.142045</td>\n",
              "    </tr>\n",
              "    <tr>\n",
              "      <th>KenM</th>\n",
              "      <td>15.0</td>\n",
              "      <td>99</td>\n",
              "      <td>0.151515</td>\n",
              "    </tr>\n",
              "    <tr>\n",
              "      <th>TheSimpsons</th>\n",
              "      <td>18.0</td>\n",
              "      <td>109</td>\n",
              "      <td>0.165138</td>\n",
              "    </tr>\n",
              "    <tr>\n",
              "      <th>AndroidQuestions</th>\n",
              "      <td>12.0</td>\n",
              "      <td>72</td>\n",
              "      <td>0.166667</td>\n",
              "    </tr>\n",
              "    <tr>\n",
              "      <th>dankmemes</th>\n",
              "      <td>17.0</td>\n",
              "      <td>99</td>\n",
              "      <td>0.171717</td>\n",
              "    </tr>\n",
              "    <tr>\n",
              "      <th>tipofmytongue</th>\n",
              "      <td>15.0</td>\n",
              "      <td>87</td>\n",
              "      <td>0.172414</td>\n",
              "    </tr>\n",
              "    <tr>\n",
              "      <th>anime_irl</th>\n",
              "      <td>24.0</td>\n",
              "      <td>135</td>\n",
              "      <td>0.177778</td>\n",
              "    </tr>\n",
              "    <tr>\n",
              "      <th>drunk</th>\n",
              "      <td>18.0</td>\n",
              "      <td>96</td>\n",
              "      <td>0.187500</td>\n",
              "    </tr>\n",
              "    <tr>\n",
              "      <th>oldpeoplefacebook</th>\n",
              "      <td>16.0</td>\n",
              "      <td>85</td>\n",
              "      <td>0.188235</td>\n",
              "    </tr>\n",
              "    <tr>\n",
              "      <th>JonTron</th>\n",
              "      <td>27.0</td>\n",
              "      <td>139</td>\n",
              "      <td>0.194245</td>\n",
              "    </tr>\n",
              "    <tr>\n",
              "      <th>weekendgunnit</th>\n",
              "      <td>31.0</td>\n",
              "      <td>158</td>\n",
              "      <td>0.196203</td>\n",
              "    </tr>\n",
              "    <tr>\n",
              "      <th>moviescirclejerk</th>\n",
              "      <td>12.0</td>\n",
              "      <td>61</td>\n",
              "      <td>0.196721</td>\n",
              "    </tr>\n",
              "    <tr>\n",
              "      <th>shittyfoodporn</th>\n",
              "      <td>38.0</td>\n",
              "      <td>191</td>\n",
              "      <td>0.198953</td>\n",
              "    </tr>\n",
              "    <tr>\n",
              "      <th>nostalgia</th>\n",
              "      <td>14.0</td>\n",
              "      <td>70</td>\n",
              "      <td>0.200000</td>\n",
              "    </tr>\n",
              "    <tr>\n",
              "      <th>notinteresting</th>\n",
              "      <td>17.0</td>\n",
              "      <td>83</td>\n",
              "      <td>0.204819</td>\n",
              "    </tr>\n",
              "    <tr>\n",
              "      <th>counting</th>\n",
              "      <td>42.0</td>\n",
              "      <td>204</td>\n",
              "      <td>0.205882</td>\n",
              "    </tr>\n",
              "    <tr>\n",
              "      <th>montageparodies</th>\n",
              "      <td>13.0</td>\n",
              "      <td>63</td>\n",
              "      <td>0.206349</td>\n",
              "    </tr>\n",
              "    <tr>\n",
              "      <th>meirl</th>\n",
              "      <td>21.0</td>\n",
              "      <td>100</td>\n",
              "      <td>0.210000</td>\n",
              "    </tr>\n",
              "    <tr>\n",
              "      <th>cats</th>\n",
              "      <td>32.0</td>\n",
              "      <td>151</td>\n",
              "      <td>0.211921</td>\n",
              "    </tr>\n",
              "  </tbody>\n",
              "</table>\n",
              "</div>"
            ],
            "text/plain": [
              "                   sarcastic  total  sarcasm_ratio\n",
              "onewordeach              0.0     94       0.000000\n",
              "AskOuija                 0.0    123       0.000000\n",
              "CatsStandingUp           0.0     79       0.000000\n",
              "friendsafari             1.0    110       0.009091\n",
              "Fireteams               16.0    417       0.038369\n",
              "pokemontrades           10.0    165       0.060606\n",
              "IASIP                    9.0     92       0.097826\n",
              "RoastMe                 54.0    513       0.105263\n",
              "circlejerk              41.0    339       0.120944\n",
              "me_irl                  72.0    569       0.126538\n",
              "ScenesFromAHat          12.0     86       0.139535\n",
              "shittyaskscience        25.0    176       0.142045\n",
              "KenM                    15.0     99       0.151515\n",
              "TheSimpsons             18.0    109       0.165138\n",
              "AndroidQuestions        12.0     72       0.166667\n",
              "dankmemes               17.0     99       0.171717\n",
              "tipofmytongue           15.0     87       0.172414\n",
              "anime_irl               24.0    135       0.177778\n",
              "drunk                   18.0     96       0.187500\n",
              "oldpeoplefacebook       16.0     85       0.188235\n",
              "JonTron                 27.0    139       0.194245\n",
              "weekendgunnit           31.0    158       0.196203\n",
              "moviescirclejerk        12.0     61       0.196721\n",
              "shittyfoodporn          38.0    191       0.198953\n",
              "nostalgia               14.0     70       0.200000\n",
              "notinteresting          17.0     83       0.204819\n",
              "counting                42.0    204       0.205882\n",
              "montageparodies         13.0     63       0.206349\n",
              "meirl                   21.0    100       0.210000\n",
              "cats                    32.0    151       0.211921"
            ]
          },
          "metadata": {
            "tags": []
          },
          "execution_count": 58
        }
      ]
    },
    {
      "cell_type": "markdown",
      "metadata": {
        "id": "oVBkUyMM75NW"
      },
      "source": [
        "<br><p style=\"font-size:20px; text-align: right;line-height:30px;direction:RTL;\" >\n",
        "برای بررسی موثر بودن مقدار score در کنایه دار بودن یک کامنت به این شکل عمل میکنیم که مقادیر score را به چند بازی تقسیم کرده و هر کدام را به یک بازه اختصاص میدهیم. به دلیل متمرکز بودن بخش زیادی از این داده نمیتوان آنها را به تعداد زیادی گروه تقسیم کرد. همانطور که در شکل زیر نمایش داده شده است گروه های مختلف score فرق چندان زیادی در نسبت کامنت های کنایه دار ندارند\n",
        " </p>"
      ]
    },
    {
      "cell_type": "code",
      "metadata": {
        "colab": {
          "base_uri": "https://localhost:8080/",
          "height": 565
        },
        "id": "YocBRhiPi7uY",
        "outputId": "f6814437-a533-4dc5-9f87-061d6535f888"
      },
      "source": [
        "# kmeans or uniform strategy leads to some groups having a few members\n",
        "\n",
        "est = KBinsDiscretizer(n_bins=20, encode='ordinal', strategy='quantile')\n",
        "score_df = pd.DataFrame({\"label\": train_data.label,\n",
        "                         \"score bins\": est.fit_transform(np.array(train_data[\"score\"]).reshape(len(train_data[\"score\"]), 1))[:,0]})\n",
        "fig, ax = plt.subplots(figsize=(11.7, 8.27))\n",
        "sns.barplot(data = score_df, x = \"score bins\", y = \"label\");"
      ],
      "execution_count": null,
      "outputs": [
        {
          "output_type": "stream",
          "text": [
            "/usr/local/lib/python3.7/dist-packages/sklearn/preprocessing/_discretization.py:197: UserWarning: Bins whose width are too small (i.e., <= 1e-8) in feature 0 are removed. Consider decreasing the number of bins.\n",
            "  'decreasing the number of bins.' % jj)\n"
          ],
          "name": "stderr"
        },
        {
          "output_type": "display_data",
          "data": {
            "image/png": "[encoded data removed]",
            "text/plain": [
              "<Figure size 842.4x595.44 with 1 Axes>"
            ]
          },
          "metadata": {
            "tags": [],
            "needs_background": "light"
          }
        }
      ]
    },
    {
      "cell_type": "markdown",
      "metadata": {
        "id": "bQgwG36-80Dw"
      },
      "source": [
        "<br><p style=\"font-size:20px; text-align: right;line-height:30px;direction:RTL;\" >\n",
        "در قسمت زیر نیز همانکاری که برای score کرده بودیم را برای ستون ups انجام داده ایم که در این قسمت نیز تفاوت چندانی بین گروه های مختلف به نظر نمیرسد\n",
        " </p>"
      ]
    },
    {
      "cell_type": "code",
      "metadata": {
        "colab": {
          "base_uri": "https://localhost:8080/",
          "height": 565
        },
        "id": "_MsSKXFYoWI5",
        "outputId": "c1a5dc7b-0bdc-49eb-bcd8-724762d330d8"
      },
      "source": [
        "est = KBinsDiscretizer(n_bins=20, encode='ordinal', strategy='quantile')\n",
        "ups_df = pd.DataFrame({\"label\": train_data.label,\n",
        "                         \"ups bins\": est.fit_transform(np.array(train_data[\"ups\"]).reshape(len(train_data[\"ups\"]), 1))[:,0]})\n",
        "fig, ax = plt.subplots(figsize=(11.7, 8.27))\n",
        "sns.barplot(data = ups_df, x = \"ups bins\", y = \"label\");"
      ],
      "execution_count": null,
      "outputs": [
        {
          "output_type": "stream",
          "text": [
            "/usr/local/lib/python3.7/dist-packages/sklearn/preprocessing/_discretization.py:197: UserWarning: Bins whose width are too small (i.e., <= 1e-8) in feature 0 are removed. Consider decreasing the number of bins.\n",
            "  'decreasing the number of bins.' % jj)\n"
          ],
          "name": "stderr"
        },
        {
          "output_type": "display_data",
          "data": {
            "image/png": "[encoded data removed]",
            "text/plain": [
              "<Figure size 842.4x595.44 with 1 Axes>"
            ]
          },
          "metadata": {
            "tags": [],
            "needs_background": "light"
          }
        }
      ]
    },
    {
      "cell_type": "markdown",
      "metadata": {
        "id": "tjkKHseC9TJe"
      },
      "source": [
        "<br><p style=\"font-size:20px; text-align: right;line-height:30px;direction:RTL;\" >\n",
        "حال میخواهیم تاثیر تاریخ را روی کنایه دار بودن کامنت بررسی کنیم. به عبارتی میخواهیم بررسی کنیم که ایا روزهای هفته یا ماه یا حتی سال های مختلف روی کنایه دار بودن کامنت ها تاثیر دارد یا خیر. <br>\n",
        "در ابتدا یک دیتافریم شامل لیبل هر کامنت و روز هفته و ماه و سال آن درست میکنیم\n",
        " </p>"
      ]
    },
    {
      "cell_type": "code",
      "metadata": {
        "id": "tTquNpL9vzq1"
      },
      "source": [
        "date_df = pd.DataFrame({\"label\": train_data[\"label\"]})\n",
        "date_df[\"day name\"] = pd.to_datetime(train_data['created_utc'], format = '%Y-%m-%d %H:%M:%S').apply(lambda x: x.day_name())\n",
        "date_df[\"month name\"] = pd.to_datetime(train_data['created_utc'], format = '%Y-%m-%d %H:%M:%S').apply(lambda x: x.month_name())\n",
        "date_df[\"year\"] = pd.to_datetime(train_data['created_utc'], format = '%Y-%m-%d %H:%M:%S').apply(lambda x: x.year)"
      ],
      "execution_count": null,
      "outputs": []
    },
    {
      "cell_type": "markdown",
      "metadata": {
        "id": "o25jpfTP9oc3"
      },
      "source": [
        "<br><p style=\"font-size:20px; text-align: right;line-height:30px;direction:RTL;\" >\n",
        "شکل زیر تاثیر روزهای هفته را روی کنایه دار بودن کامنت نشان میدهد. همانطور که مشاهده میشود تفاوتی بین روزهای هفته وجود ندارد\n",
        " </p>"
      ]
    },
    {
      "cell_type": "code",
      "metadata": {
        "colab": {
          "base_uri": "https://localhost:8080/",
          "height": 511
        },
        "id": "thUryuNzvzx_",
        "outputId": "a974b08a-655a-46d1-ec5e-22632046b938"
      },
      "source": [
        "fig, ax = plt.subplots(figsize=(11.7, 8.27))\n",
        "sns.barplot(data = date_df, x = \"day name\", y = \"label\");"
      ],
      "execution_count": null,
      "outputs": [
        {
          "output_type": "display_data",
          "data": {
            "image/png": "[encoded data removed]",
            "text/plain": [
              "<Figure size 842.4x595.44 with 1 Axes>"
            ]
          },
          "metadata": {
            "tags": [],
            "needs_background": "light"
          }
        }
      ]
    },
    {
      "cell_type": "markdown",
      "metadata": {
        "id": "o4tpGhXl9yeT"
      },
      "source": [
        "<br><p style=\"font-size:20px; text-align: right;line-height:30px;direction:RTL;\" >\n",
        "شکل زیر نیز نسبت کامنت های کنایه دار را در ماه های مختلف نشان میدهد. با وجود اینکه در ماه های انتهایی سال کنایه بیشتری به چشم میخورد اما بازهم تفاوت خیلی کمی بین ماه ها وجود دارد\n",
        " </p>"
      ]
    },
    {
      "cell_type": "code",
      "metadata": {
        "colab": {
          "base_uri": "https://localhost:8080/",
          "height": 511
        },
        "id": "iQ-aejMovz3q",
        "outputId": "bc675a4a-20d2-434e-dbe9-a1f611b962c2"
      },
      "source": [
        "fig, ax = plt.subplots(figsize=(11.7, 8.27))\n",
        "sns.barplot(ax = ax, data = date_df, x = \"month name\", y = \"label\");"
      ],
      "execution_count": null,
      "outputs": [
        {
          "output_type": "display_data",
          "data": {
            "image/png": "[encoded data removed]",
            "text/plain": [
              "<Figure size 842.4x595.44 with 1 Axes>"
            ]
          },
          "metadata": {
            "tags": [],
            "needs_background": "light"
          }
        }
      ]
    },
    {
      "cell_type": "markdown",
      "metadata": {
        "id": "VOSD30mM-B1j"
      },
      "source": [
        "<br><p style=\"font-size:20px; text-align: right;line-height:30px;direction:RTL;\" >\n",
        "در شکل زیر نسبت کامنت های کنایه دار در سال های مختلف نمایش داده شده است. همانطور که مشاهده میشود به نظر میرسد به گذشت زمان مردم کمتر کامنت کنایه دار میگذارند اما بازهم تفاوتی چندانی بین سال های مختلف به چشم نمیخورد\n",
        " </p>"
      ]
    },
    {
      "cell_type": "code",
      "metadata": {
        "colab": {
          "base_uri": "https://localhost:8080/",
          "height": 511
        },
        "id": "HiwVpNn6w66T",
        "outputId": "baec4142-ad51-4ba2-cc0b-a9d353153516"
      },
      "source": [
        "fig, ax = plt.subplots(figsize=(11.7, 8.27))\n",
        "sns.barplot(ax = ax, data = date_df, x = \"year\", y = \"label\");"
      ],
      "execution_count": null,
      "outputs": [
        {
          "output_type": "display_data",
          "data": {
            "image/png": "[encoded data removed]",
            "text/plain": [
              "<Figure size 842.4x595.44 with 1 Axes>"
            ]
          },
          "metadata": {
            "tags": [],
            "needs_background": "light"
          }
        }
      ]
    },
    {
      "cell_type": "markdown",
      "metadata": {
        "id": "1ZYCElr7gw-3"
      },
      "source": [
        "# <p style=\"font-size:100px; text-align: right;\" ><b>Feature Engineering</b></p>"
      ]
    },
    {
      "cell_type": "markdown",
      "metadata": {
        "id": "u1hdkJgj_ORy"
      },
      "source": [
        "<br><p style=\"font-size:20px; text-align: right;line-height:30px;direction:RTL;\" >\n",
        "در ابتدا ستون هایی که نیاز نداریم را پاک میکنیم. از بین ستون های داده فقط ستون لیبل و ستون موضوع را نیاز داشتیم و باقی ستون های تاثیر خاصی در کنایه امیز بودن کامنت نداشتند\n",
        " </p>"
      ]
    },
    {
      "cell_type": "code",
      "metadata": {
        "id": "hUH4tzZ9fDNw"
      },
      "source": [
        "train_data.drop(columns=[\"date\", \"created_utc\", \"author\", \"score\",\t\"ups\",\t\"downs\"], inplace = True)\n",
        "test_data.drop(columns=[\"date\", \"created_utc\", \"author\", \"score\",\t\"ups\",\t\"downs\"], inplace = True)"
      ],
      "execution_count": 5,
      "outputs": []
    },
    {
      "cell_type": "markdown",
      "metadata": {
        "id": "fIxTigcHAFan"
      },
      "source": [
        "<br><p style=\"font-size:20px; text-align: right;line-height:30px;direction:RTL;\" >\n",
        "حال ردیف هایی که سلول خالی دارند را حدف میکنیم. تعداد این ردیف های بسیار کم و در حد 40 یا 50 تا است.\n",
        " </p>\n",
        "\n",
        "\n",
        "\n",
        "\n"
      ]
    },
    {
      "cell_type": "code",
      "metadata": {
        "id": "OZynabOt40rk"
      },
      "source": [
        "# only comment columns have na\n",
        "train_data.dropna(inplace=True)\n",
        "test_data.dropna(inplace=True)\n",
        "train_data.reset_index(inplace=True, drop=True)\n",
        "test_data.reset_index(inplace=True, drop=True)"
      ],
      "execution_count": 6,
      "outputs": []
    },
    {
      "cell_type": "markdown",
      "metadata": {
        "id": "Onf9wmnMAeOl"
      },
      "source": [
        "<p style=\"font-size:20px; text-align: right;line-height:30px;direction:RTL;\" >\n",
        "حال برای گروه بندی موضوعات روش زیر را بکار میبریم. یک گروه را موضوعاتی که بیشتر از 70 درصد کامنت های آنها کنایه امیز است قرار میدهیم. گروه بعدی بین 65 تا 70. گروه های دیگر را نیز به ترتیب بین 0 تا 10, بین 10 تا 20 و بین 20 تا 30 درصد قرار میدهیم. باقی موضوعات باقی مانده نیز یک گروه جدا میشوند.\n",
        " </p>"
      ]
    },
    {
      "cell_type": "code",
      "metadata": {
        "id": "Gqrdw5Q7ZwRB"
      },
      "source": [
        "subred_above_70 = list(subreddit_df.sort_values(by=\"sarcasm_ratio\", ascending=True).query(\"total > {} and sarcasm_ratio > {}\".format(mean_subreddit_count, 0.70)).index)\n",
        "subred_between_65_70 = list(subreddit_df.sort_values(by=\"sarcasm_ratio\", ascending=True).query(\"total > {} and sarcasm_ratio > {} and sarcasm_ratio <= {}\".format(\n",
        "                                                                                                                                        mean_subreddit_count, 0.65, 0.70)).index)\n",
        "subred_below_10 = list(subreddit_df.sort_values(by=\"sarcasm_ratio\", ascending=True).query(\"total > {} and sarcasm_ratio < {}\".format(mean_subreddit_count, 0.10)).index)\n",
        "subred_between_10_20 = list(subreddit_df.sort_values(by=\"sarcasm_ratio\", ascending=True).query(\"total > {} and sarcasm_ratio > {} and sarcasm_ratio <= {}\".format(\n",
        "                                                                                                                                        mean_subreddit_count, 0.10, 0.20)).index)\n",
        "subred_between_20_30 = list(subreddit_df.sort_values(by=\"sarcasm_ratio\", ascending=True).query(\"total > {} and sarcasm_ratio > {} and sarcasm_ratio <= {}\".format(\n",
        "                                                                                                                                        mean_subreddit_count, 0.20, 0.30)).index)\n",
        "subred_groups = [subred_below_10, subred_between_10_20, subred_between_20_30, subred_between_65_70, subred_above_70]"
      ],
      "execution_count": 7,
      "outputs": []
    },
    {
      "cell_type": "markdown",
      "metadata": {
        "id": "mud6D51dBCzT"
      },
      "source": [
        "<br><p style=\"font-size:20px; text-align: right;line-height:30px;direction:RTL;\" >\n",
        "حال ستون موضوعات داده را بصورت عددی درمیاوریم\n",
        " </p>"
      ]
    },
    {
      "cell_type": "code",
      "metadata": {
        "id": "qQ1FQjCJdML1"
      },
      "source": [
        "def set_subred_group(subred):\n",
        "  for j in range(len(subred_groups)):\n",
        "    if subred in subred_groups[j]:\n",
        "      return j + 1\n",
        "  return 0\n",
        "train_data[\"subreddit\"] = train_data[\"subreddit\"].apply(set_subred_group)\n",
        "test_data[\"subreddit\"] = test_data[\"subreddit\"].apply(set_subred_group)"
      ],
      "execution_count": 8,
      "outputs": []
    },
    {
      "cell_type": "code",
      "metadata": {
        "id": "jiL-B4WQe9C9"
      },
      "source": [
        "# STOPWORDS"
      ],
      "execution_count": null,
      "outputs": []
    },
    {
      "cell_type": "markdown",
      "metadata": {
        "id": "sxlEHggACi0Z"
      },
      "source": [
        "<br><p style=\"font-size:20px; text-align: right;line-height:30px;direction:RTL;\" >\n",
        "لازم است لیبل ها را بصورت ارایه جدا داشته باشیم. برای مدل های مختلف نیاز به لیبل های مختلف داریم. برای همین یک نمونه از لیبل ها بصورت ارایه تک بعدی و یک نمونه دیگر بصورت one hot درست میکنیم که در train شبکه عصبی ما کاربرد دارد\n",
        " </p>"
      ]
    },
    {
      "cell_type": "code",
      "metadata": {
        "id": "sFMDR9GPX516"
      },
      "source": [
        "y_train = np.array(train_data[\"label\"])\n",
        "y_test = np.array(test_data[\"label\"])\n",
        "ohe = OneHotEncoder()\n",
        "y_train_one_hot = ohe.fit_transform(y_train.reshape((-1, 1))).toarray()\n",
        "y_test_one_hot = ohe.fit_transform(y_test.reshape((-1, 1))).toarray()"
      ],
      "execution_count": 9,
      "outputs": []
    },
    {
      "cell_type": "markdown",
      "metadata": {
        "id": "ovKB9Ns3C4DB"
      },
      "source": [
        "<br><p style=\"font-size:20px; text-align: right;line-height:30px;direction:RTL;\" >\n",
        "همچنین برای vectorize کردن کامنت ها نیاز داریم آنها را بصورت لیست داشته باشیم که در قسمت زیر این کار را برای داده های ترین و تست انجام داده ایم\n",
        " </p>"
      ]
    },
    {
      "cell_type": "code",
      "metadata": {
        "id": "878Qm6eCjsYj"
      },
      "source": [
        "train_x = list(train_data[\"comment\"])\n",
        "test_x = list(test_data[\"comment\"])\n",
        "\n",
        "# comments_parents_together_train_x = [train_data.loc[i, \"parent_comment\"] + train_data.loc[i, \"comment\"] for i in range(len(train_data))]\n",
        "# comments_parents_together_test_x = [test_data.loc[i, \"parent_comment\"] + test_data.loc[i, \"comment\"] for i in range(len(test_data))]"
      ],
      "execution_count": 10,
      "outputs": []
    },
    {
      "cell_type": "markdown",
      "metadata": {
        "id": "5CmjDNrL8K-1"
      },
      "source": [
        ""
      ]
    },
    {
      "cell_type": "code",
      "metadata": {
        "colab": {
          "base_uri": "https://localhost:8080/"
        },
        "id": "IvNiIt4c8Uy0",
        "outputId": "cb1cbaa5-be8f-4137-e1ac-3a310847ac10"
      },
      "source": [
        "nltk.download('punkt')\n",
        "nltk.download('wordnet')\n",
        "porterStemmer = nltk.PorterStemmer()\n",
        "lemmatizer = nltk.WordNetLemmatizer() \n",
        "punc = '''!()-[]{};:'\"\\, <>./?@#$%^&*_~'''  \n",
        "def prepare_text(raw_text):\n",
        "    tokens = nltk.word_tokenize(raw_text)\n",
        "  \n",
        "    # remove punctuation, casefolding, stem and then lemmatize\n",
        "    for i in range(len(tokens)-1,-1, -1):\n",
        "        if tokens[i] in punc:\n",
        "            del tokens[i]\n",
        "        else:\n",
        "            stemmed_casefolded_token = porterStemmer.stem(tokens[i].casefold())\n",
        "            tokens[i] = lemmatizer.lemmatize(stemmed_casefolded_token)\n",
        "    return tokens"
      ],
      "execution_count": 11,
      "outputs": [
        {
          "output_type": "stream",
          "text": [
            "[nltk_data] Downloading package punkt to /root/nltk_data...\n",
            "[nltk_data]   Unzipping tokenizers/punkt.zip.\n",
            "[nltk_data] Downloading package wordnet to /root/nltk_data...\n",
            "[nltk_data]   Unzipping corpora/wordnet.zip.\n"
          ],
          "name": "stdout"
        }
      ]
    },
    {
      "cell_type": "code",
      "metadata": {
        "colab": {
          "base_uri": "https://localhost:8080/"
        },
        "id": "ogiz14IS8Kdw",
        "outputId": "4f111bf5-4a5f-40dd-9534-96234f4f1f18"
      },
      "source": [
        "%%time\n",
        "tokenized_train_x = [prepare_text(x) for x in train_x]\n",
        "tokenized_test_x = [prepare_text(x) for x in test_x]\n",
        "# almost 1GB ram"
      ],
      "execution_count": 12,
      "outputs": [
        {
          "output_type": "stream",
          "text": [
            "CPU times: user 7min 3s, sys: 2.63 s, total: 7min 5s\n",
            "Wall time: 7min 6s\n"
          ],
          "name": "stdout"
        }
      ]
    },
    {
      "cell_type": "markdown",
      "metadata": {
        "id": "ukSwx3-u36oi"
      },
      "source": [
        "# <p style=\"font-size:40px; text-align: right;\" ><b>TF-IDF embeding</b></p>"
      ]
    },
    {
      "cell_type": "markdown",
      "metadata": {
        "id": "UfIAxbGYDDI9"
      },
      "source": [
        "<br><p style=\"font-size:20px; text-align: right;line-height:30px;direction:RTL;\" >\n",
        "این ایمبدینگ به این صورت است که ابتدا TF و IDF را برای هر Term مشخص میکند و سپس این مقدار را در هم ضرب میکند. مقدار TF یا همان term friquency تعداد تکرار کلمه را نشان میدهد. مقدار IDF یا همان inverse document friquency نیز لگاریم تعداد کل داکیومنت ها تقسیم بر داکیومنت های حاوی آن ترم است <br>\n",
        "در 2 قسمت زیر وکتورهای مرتبط با tf-idf کامنت ها را بدست اورده ایم\n",
        " </p>"
      ]
    },
    {
      "cell_type": "code",
      "metadata": {
        "id": "17OinHkZ4BZt"
      },
      "source": [
        "Tf_Idf_Vectorizer = TfidfVectorizer(ngram_range = (1,1), stop_words='english', max_features=500).fit(train_x)\n",
        "# Tf_Idf_Vectorizer = TfidfVectorizer(ngram_range = (1,1), stop_words=None).fit(train_x)"
      ],
      "execution_count": null,
      "outputs": []
    },
    {
      "cell_type": "code",
      "metadata": {
        "id": "LmOWAhRBhlv2"
      },
      "source": [
        "Tf_Idf_train_x = sparse.hstack([Tf_Idf_Vectorizer.transform(train_x), sparse.csr_matrix(np.array(train_data[\"subreddit\"]).reshape((-1, 1)))])\n",
        "Tf_Idf_test_x = sparse.hstack([Tf_Idf_Vectorizer.transform(test_x), sparse.csr_matrix(np.array(test_data[\"subreddit\"]).reshape((-1, 1)))]) "
      ],
      "execution_count": null,
      "outputs": []
    },
    {
      "cell_type": "code",
      "metadata": {
        "id": "fON99aOh0hO5"
      },
      "source": [
        "# Tf_Idf_Vectorizer.get_feature_names()"
      ],
      "execution_count": null,
      "outputs": []
    },
    {
      "cell_type": "markdown",
      "metadata": {
        "id": "ZG51D0Xx3AXP"
      },
      "source": [
        "# <p style=\"font-size:40px; text-align: right;\" ><b>Worc2Vec embedding</b></p>\n"
      ]
    },
    {
      "cell_type": "code",
      "metadata": {
        "colab": {
          "base_uri": "https://localhost:8080/"
        },
        "id": "hd3HsrI8r2CY",
        "outputId": "5a6e8b0b-4ec6-4586-f703-8e74023948a5"
      },
      "source": [
        "%%time\n",
        "word2vec_model = Word2Vec(tokenized_train_x, min_count=1, size=200)\n",
        "# almost 300MG ram"
      ],
      "execution_count": null,
      "outputs": [
        {
          "output_type": "stream",
          "text": [
            "CPU times: user 2min 59s, sys: 1.15 s, total: 3min\n",
            "Wall time: 1min 52s\n"
          ],
          "name": "stdout"
        }
      ]
    },
    {
      "cell_type": "code",
      "metadata": {
        "id": "b8G0vR7PyFR6"
      },
      "source": [
        "def cal_word2vec(tokens_list, word2vec_model):\n",
        "  result = np.zeros(200)\n",
        "  tokens_number = 0\n",
        "  for token in tokens_list:\n",
        "    # print(token)\n",
        "    try:\n",
        "      result += word2vec_model[token]\n",
        "      tokens_number += 1\n",
        "    except:\n",
        "      continue\n",
        "  return result"
      ],
      "execution_count": null,
      "outputs": []
    },
    {
      "cell_type": "code",
      "metadata": {
        "colab": {
          "base_uri": "https://localhost:8080/"
        },
        "id": "eXfTepNC60Vk",
        "outputId": "2bfc848a-c13f-4b51-b1f5-add645db5d47"
      },
      "source": [
        "%%time\n",
        "word2vec_test_x = sparse.csr_matrix(np.vstack([cal_word2vec(comment_tokens, word2vec_model) for comment_tokens in tokenized_test_x]))\n",
        "word2vec_train_x = sparse.csr_matrix(np.vstack([cal_word2vec(comment_tokens, word2vec_model) for comment_tokens in tokenized_train_x]))\n",
        "# almost 200MG ram"
      ],
      "execution_count": null,
      "outputs": [
        {
          "output_type": "stream",
          "text": [
            "/usr/local/lib/python3.7/dist-packages/ipykernel_launcher.py:7: DeprecationWarning: Call to deprecated `__getitem__` (Method will be removed in 4.0.0, use self.wv.__getitem__() instead).\n",
            "  import sys\n"
          ],
          "name": "stderr"
        },
        {
          "output_type": "stream",
          "text": [
            "CPU times: user 1min 27s, sys: 10.5 s, total: 1min 38s\n",
            "Wall time: 1min 36s\n"
          ],
          "name": "stdout"
        }
      ]
    },
    {
      "cell_type": "markdown",
      "metadata": {
        "id": "MBQn88Pra5vw"
      },
      "source": [
        "# <p style=\"font-size:40px; text-align: right;\" ><b>FastText embedding</b></p>\n"
      ]
    },
    {
      "cell_type": "code",
      "metadata": {
        "id": "kl_yx2E2FIC0",
        "colab": {
          "base_uri": "https://localhost:8080/",
          "height": 391
        },
        "outputId": "fa890c40-5242-4555-dbc6-3eadaea8f138"
      },
      "source": [
        "%%time\n",
        "FastText_model = FastText(vector_size=4, window=3, min_count=1)  # instantiate\n",
        "FastText_model.build_vocab(sentences=tokenized_train_x)"
      ],
      "execution_count": 13,
      "outputs": [
        {
          "output_type": "error",
          "ename": "TypeError",
          "evalue": "ignored",
          "traceback": [
            "\u001b[0;31m---------------------------------------------------------------------------\u001b[0m",
            "\u001b[0;31mTypeError\u001b[0m                                 Traceback (most recent call last)",
            "\u001b[0;32m<ipython-input-13-8a14ee75b983>\u001b[0m in \u001b[0;36m<module>\u001b[0;34m()\u001b[0m\n\u001b[0;32m----> 1\u001b[0;31m \u001b[0mget_ipython\u001b[0m\u001b[0;34m(\u001b[0m\u001b[0;34m)\u001b[0m\u001b[0;34m.\u001b[0m\u001b[0mrun_cell_magic\u001b[0m\u001b[0;34m(\u001b[0m\u001b[0;34m'time'\u001b[0m\u001b[0;34m,\u001b[0m \u001b[0;34m''\u001b[0m\u001b[0;34m,\u001b[0m \u001b[0;34m'FastText_model = FastText(vector_size=4, window=3, min_count=1)  # instantiate\\nFastText_model.build_vocab(sentences=tokenized_train_x)'\u001b[0m\u001b[0;34m)\u001b[0m\u001b[0;34m\u001b[0m\u001b[0;34m\u001b[0m\u001b[0m\n\u001b[0m",
            "\u001b[0;32m/usr/local/lib/python3.7/dist-packages/IPython/core/interactiveshell.py\u001b[0m in \u001b[0;36mrun_cell_magic\u001b[0;34m(self, magic_name, line, cell)\u001b[0m\n\u001b[1;32m   2115\u001b[0m             \u001b[0mmagic_arg_s\u001b[0m \u001b[0;34m=\u001b[0m \u001b[0mself\u001b[0m\u001b[0;34m.\u001b[0m\u001b[0mvar_expand\u001b[0m\u001b[0;34m(\u001b[0m\u001b[0mline\u001b[0m\u001b[0;34m,\u001b[0m \u001b[0mstack_depth\u001b[0m\u001b[0;34m)\u001b[0m\u001b[0;34m\u001b[0m\u001b[0;34m\u001b[0m\u001b[0m\n\u001b[1;32m   2116\u001b[0m             \u001b[0;32mwith\u001b[0m \u001b[0mself\u001b[0m\u001b[0;34m.\u001b[0m\u001b[0mbuiltin_trap\u001b[0m\u001b[0;34m:\u001b[0m\u001b[0;34m\u001b[0m\u001b[0;34m\u001b[0m\u001b[0m\n\u001b[0;32m-> 2117\u001b[0;31m                 \u001b[0mresult\u001b[0m \u001b[0;34m=\u001b[0m \u001b[0mfn\u001b[0m\u001b[0;34m(\u001b[0m\u001b[0mmagic_arg_s\u001b[0m\u001b[0;34m,\u001b[0m \u001b[0mcell\u001b[0m\u001b[0;34m)\u001b[0m\u001b[0;34m\u001b[0m\u001b[0;34m\u001b[0m\u001b[0m\n\u001b[0m\u001b[1;32m   2118\u001b[0m             \u001b[0;32mreturn\u001b[0m \u001b[0mresult\u001b[0m\u001b[0;34m\u001b[0m\u001b[0;34m\u001b[0m\u001b[0m\n\u001b[1;32m   2119\u001b[0m \u001b[0;34m\u001b[0m\u001b[0m\n",
            "\u001b[0;32m<decorator-gen-53>\u001b[0m in \u001b[0;36mtime\u001b[0;34m(self, line, cell, local_ns)\u001b[0m\n",
            "\u001b[0;32m/usr/local/lib/python3.7/dist-packages/IPython/core/magic.py\u001b[0m in \u001b[0;36m<lambda>\u001b[0;34m(f, *a, **k)\u001b[0m\n\u001b[1;32m    186\u001b[0m     \u001b[0;31m# but it's overkill for just that one bit of state.\u001b[0m\u001b[0;34m\u001b[0m\u001b[0;34m\u001b[0m\u001b[0;34m\u001b[0m\u001b[0m\n\u001b[1;32m    187\u001b[0m     \u001b[0;32mdef\u001b[0m \u001b[0mmagic_deco\u001b[0m\u001b[0;34m(\u001b[0m\u001b[0marg\u001b[0m\u001b[0;34m)\u001b[0m\u001b[0;34m:\u001b[0m\u001b[0;34m\u001b[0m\u001b[0;34m\u001b[0m\u001b[0m\n\u001b[0;32m--> 188\u001b[0;31m         \u001b[0mcall\u001b[0m \u001b[0;34m=\u001b[0m \u001b[0;32mlambda\u001b[0m \u001b[0mf\u001b[0m\u001b[0;34m,\u001b[0m \u001b[0;34m*\u001b[0m\u001b[0ma\u001b[0m\u001b[0;34m,\u001b[0m \u001b[0;34m**\u001b[0m\u001b[0mk\u001b[0m\u001b[0;34m:\u001b[0m \u001b[0mf\u001b[0m\u001b[0;34m(\u001b[0m\u001b[0;34m*\u001b[0m\u001b[0ma\u001b[0m\u001b[0;34m,\u001b[0m \u001b[0;34m**\u001b[0m\u001b[0mk\u001b[0m\u001b[0;34m)\u001b[0m\u001b[0;34m\u001b[0m\u001b[0;34m\u001b[0m\u001b[0m\n\u001b[0m\u001b[1;32m    189\u001b[0m \u001b[0;34m\u001b[0m\u001b[0m\n\u001b[1;32m    190\u001b[0m         \u001b[0;32mif\u001b[0m \u001b[0mcallable\u001b[0m\u001b[0;34m(\u001b[0m\u001b[0marg\u001b[0m\u001b[0;34m)\u001b[0m\u001b[0;34m:\u001b[0m\u001b[0;34m\u001b[0m\u001b[0;34m\u001b[0m\u001b[0m\n",
            "\u001b[0;32m/usr/local/lib/python3.7/dist-packages/IPython/core/magics/execution.py\u001b[0m in \u001b[0;36mtime\u001b[0;34m(self, line, cell, local_ns)\u001b[0m\n\u001b[1;32m   1191\u001b[0m         \u001b[0;32melse\u001b[0m\u001b[0;34m:\u001b[0m\u001b[0;34m\u001b[0m\u001b[0;34m\u001b[0m\u001b[0m\n\u001b[1;32m   1192\u001b[0m             \u001b[0mst\u001b[0m \u001b[0;34m=\u001b[0m \u001b[0mclock2\u001b[0m\u001b[0;34m(\u001b[0m\u001b[0;34m)\u001b[0m\u001b[0;34m\u001b[0m\u001b[0;34m\u001b[0m\u001b[0m\n\u001b[0;32m-> 1193\u001b[0;31m             \u001b[0mexec\u001b[0m\u001b[0;34m(\u001b[0m\u001b[0mcode\u001b[0m\u001b[0;34m,\u001b[0m \u001b[0mglob\u001b[0m\u001b[0;34m,\u001b[0m \u001b[0mlocal_ns\u001b[0m\u001b[0;34m)\u001b[0m\u001b[0;34m\u001b[0m\u001b[0;34m\u001b[0m\u001b[0m\n\u001b[0m\u001b[1;32m   1194\u001b[0m             \u001b[0mend\u001b[0m \u001b[0;34m=\u001b[0m \u001b[0mclock2\u001b[0m\u001b[0;34m(\u001b[0m\u001b[0;34m)\u001b[0m\u001b[0;34m\u001b[0m\u001b[0;34m\u001b[0m\u001b[0m\n\u001b[1;32m   1195\u001b[0m             \u001b[0mout\u001b[0m \u001b[0;34m=\u001b[0m \u001b[0;32mNone\u001b[0m\u001b[0;34m\u001b[0m\u001b[0;34m\u001b[0m\u001b[0m\n",
            "\u001b[0;32m<timed exec>\u001b[0m in \u001b[0;36m<module>\u001b[0;34m()\u001b[0m\n",
            "\u001b[0;31mTypeError\u001b[0m: __init__() got an unexpected keyword argument 'vector_size'"
          ]
        }
      ]
    },
    {
      "cell_type": "code",
      "metadata": {
        "id": "O-wTw0QRfZEr"
      },
      "source": [
        "%%time\n",
        "FastText_model.train(sentences=tokenized_train_x, total_examples=len(tokenized_train_x), epochs=10)  # train"
      ],
      "execution_count": null,
      "outputs": []
    },
    {
      "cell_type": "markdown",
      "metadata": {
        "id": "1l6HuYhf5hoL"
      },
      "source": [
        "# <p style=\"font-size:100px; text-align: right;\" ><b>Testing Models</b></p>\n"
      ]
    },
    {
      "cell_type": "code",
      "metadata": {
        "id": "LRv-cC1n6U4E"
      },
      "source": [
        "def classification_rep(y_pred, y_act):\n",
        "    confusion_matrix = pd.crosstab(np.array(y_pred), np.array(y_act), rownames=['Actual'], colnames=['Predicted'])\n",
        "    print(classification_report(y_act, y_pred, target_names=[\"class 0\", \"class 1\"]))\n",
        "    sns.heatmap(confusion_matrix, annot=True, fmt = 'g', cmap = 'Blues', cbar=False);"
      ],
      "execution_count": null,
      "outputs": []
    },
    {
      "cell_type": "markdown",
      "metadata": {
        "id": "kulWMhBN59RY"
      },
      "source": [
        "# <p style=\"font-size:40px; text-align: right;\" ><b>Testing TF-IDF</b></p>\n"
      ]
    },
    {
      "cell_type": "markdown",
      "metadata": {
        "id": "zYcD2FyQ3vl0"
      },
      "source": [
        "<p style=\"font-size:40px; text-align: right;\" ><b>Loggistic regression</b></p>"
      ]
    },
    {
      "cell_type": "code",
      "metadata": {
        "id": "66eRPmcd6D56",
        "colab": {
          "base_uri": "https://localhost:8080/"
        },
        "outputId": "ad4ac7d9-c7bd-4058-8d6b-57a0189f5708"
      },
      "source": [
        "%%time\n",
        "LR_clf_Tf_idf = LogisticRegression(random_state=0, penalty=\"l2\", max_iter = 1000, n_jobs=-1)\n",
        "LR_clf_Tf_idf.fit(Tf_Idf_train_x, y_train)"
      ],
      "execution_count": null,
      "outputs": [
        {
          "output_type": "stream",
          "text": [
            "CPU times: user 242 ms, sys: 223 ms, total: 465 ms\n",
            "Wall time: 15.6 s\n"
          ],
          "name": "stdout"
        }
      ]
    },
    {
      "cell_type": "code",
      "metadata": {
        "id": "evntxl4j68uC"
      },
      "source": [
        "Tf_Idf_LR_clf_train_pred = LR_clf_Tf_idf.predict(Tf_Idf_train_x)\n",
        "Tf_Idf_LR_clf_test_pred = LR_clf_Tf_idf.predict(Tf_Idf_test_x)\n",
        "# with above cell almost 100MG"
      ],
      "execution_count": null,
      "outputs": []
    },
    {
      "cell_type": "code",
      "metadata": {
        "colab": {
          "base_uri": "https://localhost:8080/",
          "height": 449
        },
        "id": "Fef0mLH-61Hl",
        "outputId": "65493a44-cd3b-4b07-dd0b-3b87a4b9211c"
      },
      "source": [
        "print(\"logistic regression report on train data\")\n",
        "classification_rep(Tf_Idf_LR_clf_train_pred, y_train)"
      ],
      "execution_count": null,
      "outputs": [
        {
          "output_type": "stream",
          "text": [
            "logistic regression report on train data\n",
            "              precision    recall  f1-score   support\n",
            "\n",
            "     class 0       0.61      0.73      0.66    404225\n",
            "     class 1       0.66      0.53      0.59    404735\n",
            "\n",
            "    accuracy                           0.63    808960\n",
            "   macro avg       0.64      0.63      0.63    808960\n",
            "weighted avg       0.64      0.63      0.63    808960\n",
            "\n"
          ],
          "name": "stdout"
        },
        {
          "output_type": "display_data",
          "data": {
            "image/png": "[encoded data removed]",
            "text/plain": [
              "<Figure size 432x288 with 1 Axes>"
            ]
          },
          "metadata": {
            "tags": [],
            "needs_background": "light"
          }
        }
      ]
    },
    {
      "cell_type": "code",
      "metadata": {
        "colab": {
          "base_uri": "https://localhost:8080/",
          "height": 449
        },
        "id": "WIRfZmEF7Oc2",
        "outputId": "fd3b57ed-bbbd-4158-96fd-eed7f662b814"
      },
      "source": [
        "print(\"logistic regression report on test data\")\n",
        "classification_rep(Tf_Idf_LR_clf_test_pred, y_test)"
      ],
      "execution_count": null,
      "outputs": [
        {
          "output_type": "stream",
          "text": [
            "logistic regression report on test data\n",
            "              precision    recall  f1-score   support\n",
            "\n",
            "     class 0       0.61      0.73      0.66    101180\n",
            "     class 1       0.66      0.53      0.59    100633\n",
            "\n",
            "    accuracy                           0.63    201813\n",
            "   macro avg       0.63      0.63      0.63    201813\n",
            "weighted avg       0.63      0.63      0.63    201813\n",
            "\n"
          ],
          "name": "stdout"
        },
        {
          "output_type": "display_data",
          "data": {
            "image/png": "[encoded data removed]",
            "text/plain": [
              "<Figure size 432x288 with 1 Axes>"
            ]
          },
          "metadata": {
            "tags": [],
            "needs_background": "light"
          }
        }
      ]
    },
    {
      "cell_type": "code",
      "metadata": {
        "colab": {
          "base_uri": "https://localhost:8080/",
          "height": 1000
        },
        "id": "ILObiryX6lDV",
        "outputId": "df41364f-655b-4fb1-f8c4-ad65565122f4"
      },
      "source": [
        "eli5.show_weights(LR_clf_Tf_idf, vec=Tf_Idf_Vectorizer, top=100, feature_filter=lambda x: x != '<BIAS>')"
      ],
      "execution_count": null,
      "outputs": [
        {
          "output_type": "execute_result",
          "data": {
            "text/html": [
              "\n",
              "    <style>\n",
              "    table.eli5-weights tr:hover {\n",
              "        filter: brightness(85%);\n",
              "    }\n",
              "</style>\n",
              "\n",
              "\n",
              "\n",
              "    \n",
              "\n",
              "    \n",
              "\n",
              "    \n",
              "\n",
              "    \n",
              "\n",
              "    \n",
              "\n",
              "    \n",
              "\n",
              "\n",
              "    \n",
              "\n",
              "    \n",
              "\n",
              "    \n",
              "\n",
              "    \n",
              "        \n",
              "\n",
              "    \n",
              "\n",
              "        \n",
              "            \n",
              "                \n",
              "                \n",
              "    \n",
              "        <p style=\"margin-bottom: 0.5em; margin-top: 0em\">\n",
              "            <b>\n",
              "    \n",
              "        y=1\n",
              "    \n",
              "</b>\n",
              "\n",
              "top features\n",
              "        </p>\n",
              "    \n",
              "    <table class=\"eli5-weights\"\n",
              "           style=\"border-collapse: collapse; border: none; margin-top: 0em; table-layout: auto; margin-bottom: 2em;\">\n",
              "        <thead>\n",
              "        <tr style=\"border: none;\">\n",
              "            \n",
              "                <th style=\"padding: 0 1em 0 0.5em; text-align: right; border: none;\" title=\"Feature weights. Note that weights do not account for feature value scales, so if feature values have different scales, features with highest weights might not be the most important.\">\n",
              "                    Weight<sup>?</sup>\n",
              "                </th>\n",
              "            \n",
              "            <th style=\"padding: 0 0.5em 0 0.5em; text-align: left; border: none;\">Feature</th>\n",
              "            \n",
              "        </tr>\n",
              "        </thead>\n",
              "        <tbody>\n",
              "        \n",
              "            <tr style=\"background-color: hsl(120, 100.00%, 80.00%); border: none;\">\n",
              "    <td style=\"padding: 0 1em 0 0.5em; text-align: right; border: none;\">\n",
              "        +3.592\n",
              "    </td>\n",
              "    <td style=\"padding: 0 0.5em 0 0.5em; text-align: left; border: none;\">\n",
              "        obviously\n",
              "    </td>\n",
              "    \n",
              "</tr>\n",
              "        \n",
              "            <tr style=\"background-color: hsl(120, 100.00%, 81.10%); border: none;\">\n",
              "    <td style=\"padding: 0 1em 0 0.5em; text-align: right; border: none;\">\n",
              "        +3.314\n",
              "    </td>\n",
              "    <td style=\"padding: 0 0.5em 0 0.5em; text-align: left; border: none;\">\n",
              "        forgot\n",
              "    </td>\n",
              "    \n",
              "</tr>\n",
              "        \n",
              "            <tr style=\"background-color: hsl(120, 100.00%, 81.46%); border: none;\">\n",
              "    <td style=\"padding: 0 1em 0 0.5em; text-align: right; border: none;\">\n",
              "        +3.223\n",
              "    </td>\n",
              "    <td style=\"padding: 0 0.5em 0 0.5em; text-align: left; border: none;\">\n",
              "        totally\n",
              "    </td>\n",
              "    \n",
              "</tr>\n",
              "        \n",
              "            <tr style=\"background-color: hsl(120, 100.00%, 81.64%); border: none;\">\n",
              "    <td style=\"padding: 0 1em 0 0.5em; text-align: right; border: none;\">\n",
              "        +3.179\n",
              "    </td>\n",
              "    <td style=\"padding: 0 0.5em 0 0.5em; text-align: left; border: none;\">\n",
              "        clearly\n",
              "    </td>\n",
              "    \n",
              "</tr>\n",
              "        \n",
              "            <tr style=\"background-color: hsl(120, 100.00%, 81.65%); border: none;\">\n",
              "    <td style=\"padding: 0 1em 0 0.5em; text-align: right; border: none;\">\n",
              "        +3.177\n",
              "    </td>\n",
              "    <td style=\"padding: 0 0.5em 0 0.5em; text-align: left; border: none;\">\n",
              "        duh\n",
              "    </td>\n",
              "    \n",
              "</tr>\n",
              "        \n",
              "            <tr style=\"background-color: hsl(120, 100.00%, 81.68%); border: none;\">\n",
              "    <td style=\"padding: 0 1em 0 0.5em; text-align: right; border: none;\">\n",
              "        +3.169\n",
              "    </td>\n",
              "    <td style=\"padding: 0 0.5em 0 0.5em; text-align: left; border: none;\">\n",
              "        dropped\n",
              "    </td>\n",
              "    \n",
              "</tr>\n",
              "        \n",
              "            <tr style=\"background-color: hsl(120, 100.00%, 82.11%); border: none;\">\n",
              "    <td style=\"padding: 0 1em 0 0.5em; text-align: right; border: none;\">\n",
              "        +3.064\n",
              "    </td>\n",
              "    <td style=\"padding: 0 0.5em 0 0.5em; text-align: left; border: none;\">\n",
              "        dare\n",
              "    </td>\n",
              "    \n",
              "</tr>\n",
              "        \n",
              "            <tr style=\"background-color: hsl(120, 100.00%, 84.10%); border: none;\">\n",
              "    <td style=\"padding: 0 1em 0 0.5em; text-align: right; border: none;\">\n",
              "        +2.588\n",
              "    </td>\n",
              "    <td style=\"padding: 0 0.5em 0 0.5em; text-align: left; border: none;\">\n",
              "        yeah\n",
              "    </td>\n",
              "    \n",
              "</tr>\n",
              "        \n",
              "            <tr style=\"background-color: hsl(120, 100.00%, 84.16%); border: none;\">\n",
              "    <td style=\"padding: 0 1em 0 0.5em; text-align: right; border: none;\">\n",
              "        +2.575\n",
              "    </td>\n",
              "    <td style=\"padding: 0 0.5em 0 0.5em; text-align: left; border: none;\">\n",
              "        racist\n",
              "    </td>\n",
              "    \n",
              "</tr>\n",
              "        \n",
              "            <tr style=\"background-color: hsl(120, 100.00%, 84.78%); border: none;\">\n",
              "    <td style=\"padding: 0 1em 0 0.5em; text-align: right; border: none;\">\n",
              "        +2.433\n",
              "    </td>\n",
              "    <td style=\"padding: 0 0.5em 0 0.5em; text-align: left; border: none;\">\n",
              "        fault\n",
              "    </td>\n",
              "    \n",
              "</tr>\n",
              "        \n",
              "            <tr style=\"background-color: hsl(120, 100.00%, 85.72%); border: none;\">\n",
              "    <td style=\"padding: 0 1em 0 0.5em; text-align: right; border: none;\">\n",
              "        +2.220\n",
              "    </td>\n",
              "    <td style=\"padding: 0 0.5em 0 0.5em; text-align: left; border: none;\">\n",
              "        omg\n",
              "    </td>\n",
              "    \n",
              "</tr>\n",
              "        \n",
              "            <tr style=\"background-color: hsl(120, 100.00%, 86.50%); border: none;\">\n",
              "    <td style=\"padding: 0 1em 0 0.5em; text-align: right; border: none;\">\n",
              "        +2.048\n",
              "    </td>\n",
              "    <td style=\"padding: 0 0.5em 0 0.5em; text-align: left; border: none;\">\n",
              "        yea\n",
              "    </td>\n",
              "    \n",
              "</tr>\n",
              "        \n",
              "            <tr style=\"background-color: hsl(120, 100.00%, 86.58%); border: none;\">\n",
              "    <td style=\"padding: 0 1em 0 0.5em; text-align: right; border: none;\">\n",
              "        +2.030\n",
              "    </td>\n",
              "    <td style=\"padding: 0 0.5em 0 0.5em; text-align: left; border: none;\">\n",
              "        wow\n",
              "    </td>\n",
              "    \n",
              "</tr>\n",
              "        \n",
              "            <tr style=\"background-color: hsl(120, 100.00%, 87.87%); border: none;\">\n",
              "    <td style=\"padding: 0 1em 0 0.5em; text-align: right; border: none;\">\n",
              "        +1.759\n",
              "    </td>\n",
              "    <td style=\"padding: 0 0.5em 0 0.5em; text-align: left; border: none;\">\n",
              "        rape\n",
              "    </td>\n",
              "    \n",
              "</tr>\n",
              "        \n",
              "            <tr style=\"background-color: hsl(120, 100.00%, 87.87%); border: none;\">\n",
              "    <td style=\"padding: 0 1em 0 0.5em; text-align: right; border: none;\">\n",
              "        +1.758\n",
              "    </td>\n",
              "    <td style=\"padding: 0 0.5em 0 0.5em; text-align: left; border: none;\">\n",
              "        women\n",
              "    </td>\n",
              "    \n",
              "</tr>\n",
              "        \n",
              "            <tr style=\"background-color: hsl(120, 100.00%, 88.10%); border: none;\">\n",
              "    <td style=\"padding: 0 1em 0 0.5em; text-align: right; border: none;\">\n",
              "        +1.712\n",
              "    </td>\n",
              "    <td style=\"padding: 0 0.5em 0 0.5em; text-align: left; border: none;\">\n",
              "        nah\n",
              "    </td>\n",
              "    \n",
              "</tr>\n",
              "        \n",
              "            <tr style=\"background-color: hsl(120, 100.00%, 88.26%); border: none;\">\n",
              "    <td style=\"padding: 0 1em 0 0.5em; text-align: right; border: none;\">\n",
              "        +1.678\n",
              "    </td>\n",
              "    <td style=\"padding: 0 0.5em 0 0.5em; text-align: left; border: none;\">\n",
              "        knows\n",
              "    </td>\n",
              "    \n",
              "</tr>\n",
              "        \n",
              "            <tr style=\"background-color: hsl(120, 100.00%, 88.51%); border: none;\">\n",
              "    <td style=\"padding: 0 1em 0 0.5em; text-align: right; border: none;\">\n",
              "        +1.627\n",
              "    </td>\n",
              "    <td style=\"padding: 0 0.5em 0 0.5em; text-align: left; border: none;\">\n",
              "        guns\n",
              "    </td>\n",
              "    \n",
              "</tr>\n",
              "        \n",
              "            <tr style=\"background-color: hsl(120, 100.00%, 88.53%); border: none;\">\n",
              "    <td style=\"padding: 0 1em 0 0.5em; text-align: right; border: none;\">\n",
              "        +1.623\n",
              "    </td>\n",
              "    <td style=\"padding: 0 0.5em 0 0.5em; text-align: left; border: none;\">\n",
              "        course\n",
              "    </td>\n",
              "    \n",
              "</tr>\n",
              "        \n",
              "            <tr style=\"background-color: hsl(120, 100.00%, 89.02%); border: none;\">\n",
              "    <td style=\"padding: 0 1em 0 0.5em; text-align: right; border: none;\">\n",
              "        +1.526\n",
              "    </td>\n",
              "    <td style=\"padding: 0 0.5em 0 0.5em; text-align: left; border: none;\">\n",
              "        evil\n",
              "    </td>\n",
              "    \n",
              "</tr>\n",
              "        \n",
              "            <tr style=\"background-color: hsl(120, 100.00%, 89.22%); border: none;\">\n",
              "    <td style=\"padding: 0 1em 0 0.5em; text-align: right; border: none;\">\n",
              "        +1.486\n",
              "    </td>\n",
              "    <td style=\"padding: 0 0.5em 0 0.5em; text-align: left; border: none;\">\n",
              "        cause\n",
              "    </td>\n",
              "    \n",
              "</tr>\n",
              "        \n",
              "            <tr style=\"background-color: hsl(120, 100.00%, 89.29%); border: none;\">\n",
              "    <td style=\"padding: 0 1em 0 0.5em; text-align: right; border: none;\">\n",
              "        +1.473\n",
              "    </td>\n",
              "    <td style=\"padding: 0 0.5em 0 0.5em; text-align: left; border: none;\">\n",
              "        children\n",
              "    </td>\n",
              "    \n",
              "</tr>\n",
              "        \n",
              "            <tr style=\"background-color: hsl(120, 100.00%, 89.35%); border: none;\">\n",
              "    <td style=\"padding: 0 1em 0 0.5em; text-align: right; border: none;\">\n",
              "        +1.461\n",
              "    </td>\n",
              "    <td style=\"padding: 0 0.5em 0 0.5em; text-align: left; border: none;\">\n",
              "        jobs\n",
              "    </td>\n",
              "    \n",
              "</tr>\n",
              "        \n",
              "            <tr style=\"background-color: hsl(120, 100.00%, 89.65%); border: none;\">\n",
              "    <td style=\"padding: 0 1em 0 0.5em; text-align: right; border: none;\">\n",
              "        +1.402\n",
              "    </td>\n",
              "    <td style=\"padding: 0 0.5em 0 0.5em; text-align: left; border: none;\">\n",
              "        white\n",
              "    </td>\n",
              "    \n",
              "</tr>\n",
              "        \n",
              "            <tr style=\"background-color: hsl(120, 100.00%, 89.81%); border: none;\">\n",
              "    <td style=\"padding: 0 1em 0 0.5em; text-align: right; border: none;\">\n",
              "        +1.371\n",
              "    </td>\n",
              "    <td style=\"padding: 0 0.5em 0 0.5em; text-align: left; border: none;\">\n",
              "        obama\n",
              "    </td>\n",
              "    \n",
              "</tr>\n",
              "        \n",
              "            <tr style=\"background-color: hsl(120, 100.00%, 89.88%); border: none;\">\n",
              "    <td style=\"padding: 0 1em 0 0.5em; text-align: right; border: none;\">\n",
              "        +1.357\n",
              "    </td>\n",
              "    <td style=\"padding: 0 0.5em 0 0.5em; text-align: left; border: none;\">\n",
              "        worry\n",
              "    </td>\n",
              "    \n",
              "</tr>\n",
              "        \n",
              "            <tr style=\"background-color: hsl(120, 100.00%, 90.01%); border: none;\">\n",
              "    <td style=\"padding: 0 1em 0 0.5em; text-align: right; border: none;\">\n",
              "        +1.333\n",
              "    </td>\n",
              "    <td style=\"padding: 0 0.5em 0 0.5em; text-align: left; border: none;\">\n",
              "        confirmed\n",
              "    </td>\n",
              "    \n",
              "</tr>\n",
              "        \n",
              "            <tr style=\"background-color: hsl(120, 100.00%, 90.09%); border: none;\">\n",
              "    <td style=\"padding: 0 1em 0 0.5em; text-align: right; border: none;\">\n",
              "        +1.317\n",
              "    </td>\n",
              "    <td style=\"padding: 0 0.5em 0 0.5em; text-align: left; border: none;\">\n",
              "        sure\n",
              "    </td>\n",
              "    \n",
              "</tr>\n",
              "        \n",
              "            <tr style=\"background-color: hsl(120, 100.00%, 90.12%); border: none;\">\n",
              "    <td style=\"padding: 0 1em 0 0.5em; text-align: right; border: none;\">\n",
              "        +1.312\n",
              "    </td>\n",
              "    <td style=\"padding: 0 0.5em 0 0.5em; text-align: left; border: none;\">\n",
              "        hey\n",
              "    </td>\n",
              "    \n",
              "</tr>\n",
              "        \n",
              "            <tr style=\"background-color: hsl(120, 100.00%, 90.12%); border: none;\">\n",
              "    <td style=\"padding: 0 1em 0 0.5em; text-align: right; border: none;\">\n",
              "        +1.311\n",
              "    </td>\n",
              "    <td style=\"padding: 0 0.5em 0 0.5em; text-align: left; border: none;\">\n",
              "        men\n",
              "    </td>\n",
              "    \n",
              "</tr>\n",
              "        \n",
              "            <tr style=\"background-color: hsl(120, 100.00%, 90.29%); border: none;\">\n",
              "    <td style=\"padding: 0 1em 0 0.5em; text-align: right; border: none;\">\n",
              "        +1.279\n",
              "    </td>\n",
              "    <td style=\"padding: 0 0.5em 0 0.5em; text-align: left; border: none;\">\n",
              "        bro\n",
              "    </td>\n",
              "    \n",
              "</tr>\n",
              "        \n",
              "            <tr style=\"background-color: hsl(120, 100.00%, 90.30%); border: none;\">\n",
              "    <td style=\"padding: 0 1em 0 0.5em; text-align: right; border: none;\">\n",
              "        +1.277\n",
              "    </td>\n",
              "    <td style=\"padding: 0 0.5em 0 0.5em; text-align: left; border: none;\">\n",
              "        woman\n",
              "    </td>\n",
              "    \n",
              "</tr>\n",
              "        \n",
              "            <tr style=\"background-color: hsl(120, 100.00%, 90.35%); border: none;\">\n",
              "    <td style=\"padding: 0 1em 0 0.5em; text-align: right; border: none;\">\n",
              "        +1.267\n",
              "    </td>\n",
              "    <td style=\"padding: 0 0.5em 0 0.5em; text-align: left; border: none;\">\n",
              "        guys\n",
              "    </td>\n",
              "    \n",
              "</tr>\n",
              "        \n",
              "            <tr style=\"background-color: hsl(120, 100.00%, 90.38%); border: none;\">\n",
              "    <td style=\"padding: 0 1em 0 0.5em; text-align: right; border: none;\">\n",
              "        +1.263\n",
              "    </td>\n",
              "    <td style=\"padding: 0 0.5em 0 0.5em; text-align: left; border: none;\">\n",
              "        important\n",
              "    </td>\n",
              "    \n",
              "</tr>\n",
              "        \n",
              "            <tr style=\"background-color: hsl(120, 100.00%, 90.58%); border: none;\">\n",
              "    <td style=\"padding: 0 1em 0 0.5em; text-align: right; border: none;\">\n",
              "        +1.226\n",
              "    </td>\n",
              "    <td style=\"padding: 0 0.5em 0 0.5em; text-align: left; border: none;\">\n",
              "        gay\n",
              "    </td>\n",
              "    \n",
              "</tr>\n",
              "        \n",
              "            <tr style=\"background-color: hsl(120, 100.00%, 90.63%); border: none;\">\n",
              "    <td style=\"padding: 0 1em 0 0.5em; text-align: right; border: none;\">\n",
              "        +1.217\n",
              "    </td>\n",
              "    <td style=\"padding: 0 0.5em 0 0.5em; text-align: left; border: none;\">\n",
              "        glad\n",
              "    </td>\n",
              "    \n",
              "</tr>\n",
              "        \n",
              "            <tr style=\"background-color: hsl(120, 100.00%, 91.00%); border: none;\">\n",
              "    <td style=\"padding: 0 1em 0 0.5em; text-align: right; border: none;\">\n",
              "        +1.147\n",
              "    </td>\n",
              "    <td style=\"padding: 0 0.5em 0 0.5em; text-align: left; border: none;\">\n",
              "        worked\n",
              "    </td>\n",
              "    \n",
              "</tr>\n",
              "        \n",
              "            <tr style=\"background-color: hsl(120, 100.00%, 91.01%); border: none;\">\n",
              "    <td style=\"padding: 0 1em 0 0.5em; text-align: right; border: none;\">\n",
              "        +1.146\n",
              "    </td>\n",
              "    <td style=\"padding: 0 0.5em 0 0.5em; text-align: left; border: none;\">\n",
              "        poor\n",
              "    </td>\n",
              "    \n",
              "</tr>\n",
              "        \n",
              "            <tr style=\"background-color: hsl(120, 100.00%, 91.16%); border: none;\">\n",
              "    <td style=\"padding: 0 1em 0 0.5em; text-align: right; border: none;\">\n",
              "        +1.120\n",
              "    </td>\n",
              "    <td style=\"padding: 0 0.5em 0 0.5em; text-align: left; border: none;\">\n",
              "        government\n",
              "    </td>\n",
              "    \n",
              "</tr>\n",
              "        \n",
              "            <tr style=\"background-color: hsl(120, 100.00%, 91.29%); border: none;\">\n",
              "    <td style=\"padding: 0 1em 0 0.5em; text-align: right; border: none;\">\n",
              "        +1.096\n",
              "    </td>\n",
              "    <td style=\"padding: 0 0.5em 0 0.5em; text-align: left; border: none;\">\n",
              "        right\n",
              "    </td>\n",
              "    \n",
              "</tr>\n",
              "        \n",
              "            <tr style=\"background-color: hsl(120, 100.00%, 91.33%); border: none;\">\n",
              "    <td style=\"padding: 0 1em 0 0.5em; text-align: right; border: none;\">\n",
              "        +1.088\n",
              "    </td>\n",
              "    <td style=\"padding: 0 0.5em 0 0.5em; text-align: left; border: none;\">\n",
              "        quality\n",
              "    </td>\n",
              "    \n",
              "</tr>\n",
              "        \n",
              "            <tr style=\"background-color: hsl(120, 100.00%, 91.42%); border: none;\">\n",
              "    <td style=\"padding: 0 1em 0 0.5em; text-align: right; border: none;\">\n",
              "        +1.073\n",
              "    </td>\n",
              "    <td style=\"padding: 0 0.5em 0 0.5em; text-align: left; border: none;\">\n",
              "        america\n",
              "    </td>\n",
              "    \n",
              "</tr>\n",
              "        \n",
              "            <tr style=\"background-color: hsl(120, 100.00%, 91.51%); border: none;\">\n",
              "    <td style=\"padding: 0 1em 0 0.5em; text-align: right; border: none;\">\n",
              "        +1.056\n",
              "    </td>\n",
              "    <td style=\"padding: 0 0.5em 0 0.5em; text-align: left; border: none;\">\n",
              "        lets\n",
              "    </td>\n",
              "    \n",
              "</tr>\n",
              "        \n",
              "            <tr style=\"background-color: hsl(120, 100.00%, 91.63%); border: none;\">\n",
              "    <td style=\"padding: 0 1em 0 0.5em; text-align: right; border: none;\">\n",
              "        +1.035\n",
              "    </td>\n",
              "    <td style=\"padding: 0 0.5em 0 0.5em; text-align: left; border: none;\">\n",
              "        human\n",
              "    </td>\n",
              "    \n",
              "</tr>\n",
              "        \n",
              "            <tr style=\"background-color: hsl(120, 100.00%, 91.71%); border: none;\">\n",
              "    <td style=\"padding: 0 1em 0 0.5em; text-align: right; border: none;\">\n",
              "        +1.022\n",
              "    </td>\n",
              "    <td style=\"padding: 0 0.5em 0 0.5em; text-align: left; border: none;\">\n",
              "        safe\n",
              "    </td>\n",
              "    \n",
              "</tr>\n",
              "        \n",
              "            <tr style=\"background-color: hsl(120, 100.00%, 91.82%); border: none;\">\n",
              "    <td style=\"padding: 0 1em 0 0.5em; text-align: right; border: none;\">\n",
              "        +1.002\n",
              "    </td>\n",
              "    <td style=\"padding: 0 0.5em 0 0.5em; text-align: left; border: none;\">\n",
              "        oh\n",
              "    </td>\n",
              "    \n",
              "</tr>\n",
              "        \n",
              "            <tr style=\"background-color: hsl(120, 100.00%, 91.84%); border: none;\">\n",
              "    <td style=\"padding: 0 1em 0 0.5em; text-align: right; border: none;\">\n",
              "        +0.998\n",
              "    </td>\n",
              "    <td style=\"padding: 0 0.5em 0 0.5em; text-align: left; border: none;\">\n",
              "        police\n",
              "    </td>\n",
              "    \n",
              "</tr>\n",
              "        \n",
              "            <tr style=\"background-color: hsl(120, 100.00%, 91.92%); border: none;\">\n",
              "    <td style=\"padding: 0 1em 0 0.5em; text-align: right; border: none;\">\n",
              "        +0.985\n",
              "    </td>\n",
              "    <td style=\"padding: 0 0.5em 0 0.5em; text-align: left; border: none;\">\n",
              "        rights\n",
              "    </td>\n",
              "    \n",
              "</tr>\n",
              "        \n",
              "            <tr style=\"background-color: hsl(120, 100.00%, 92.02%); border: none;\">\n",
              "    <td style=\"padding: 0 1em 0 0.5em; text-align: right; border: none;\">\n",
              "        +0.966\n",
              "    </td>\n",
              "    <td style=\"padding: 0 0.5em 0 0.5em; text-align: left; border: none;\">\n",
              "        missed\n",
              "    </td>\n",
              "    \n",
              "</tr>\n",
              "        \n",
              "            <tr style=\"background-color: hsl(120, 100.00%, 92.16%); border: none;\">\n",
              "    <td style=\"padding: 0 1em 0 0.5em; text-align: right; border: none;\">\n",
              "        +0.943\n",
              "    </td>\n",
              "    <td style=\"padding: 0 0.5em 0 0.5em; text-align: left; border: none;\">\n",
              "        male\n",
              "    </td>\n",
              "    \n",
              "</tr>\n",
              "        \n",
              "            <tr style=\"background-color: hsl(120, 100.00%, 92.17%); border: none;\">\n",
              "    <td style=\"padding: 0 1em 0 0.5em; text-align: right; border: none;\">\n",
              "        +0.941\n",
              "    </td>\n",
              "    <td style=\"padding: 0 0.5em 0 0.5em; text-align: left; border: none;\">\n",
              "        til\n",
              "    </td>\n",
              "    \n",
              "</tr>\n",
              "        \n",
              "            <tr style=\"background-color: hsl(120, 100.00%, 92.20%); border: none;\">\n",
              "    <td style=\"padding: 0 1em 0 0.5em; text-align: right; border: none;\">\n",
              "        +0.935\n",
              "    </td>\n",
              "    <td style=\"padding: 0 0.5em 0 0.5em; text-align: left; border: none;\">\n",
              "        supposed\n",
              "    </td>\n",
              "    \n",
              "</tr>\n",
              "        \n",
              "            <tr style=\"background-color: hsl(120, 100.00%, 92.21%); border: none;\">\n",
              "    <td style=\"padding: 0 1em 0 0.5em; text-align: right; border: none;\">\n",
              "        +0.934\n",
              "    </td>\n",
              "    <td style=\"padding: 0 0.5em 0 0.5em; text-align: left; border: none;\">\n",
              "        rich\n",
              "    </td>\n",
              "    \n",
              "</tr>\n",
              "        \n",
              "            <tr style=\"background-color: hsl(120, 100.00%, 92.23%); border: none;\">\n",
              "    <td style=\"padding: 0 1em 0 0.5em; text-align: right; border: none;\">\n",
              "        +0.931\n",
              "    </td>\n",
              "    <td style=\"padding: 0 0.5em 0 0.5em; text-align: left; border: none;\">\n",
              "        finally\n",
              "    </td>\n",
              "    \n",
              "</tr>\n",
              "        \n",
              "            <tr style=\"background-color: hsl(120, 100.00%, 92.24%); border: none;\">\n",
              "    <td style=\"padding: 0 1em 0 0.5em; text-align: right; border: none;\">\n",
              "        +0.928\n",
              "    </td>\n",
              "    <td style=\"padding: 0 0.5em 0 0.5em; text-align: left; border: none;\">\n",
              "        black\n",
              "    </td>\n",
              "    \n",
              "</tr>\n",
              "        \n",
              "            <tr style=\"background-color: hsl(120, 100.00%, 92.33%); border: none;\">\n",
              "    <td style=\"padding: 0 1em 0 0.5em; text-align: right; border: none;\">\n",
              "        +0.913\n",
              "    </td>\n",
              "    <td style=\"padding: 0 0.5em 0 0.5em; text-align: left; border: none;\">\n",
              "        gotta\n",
              "    </td>\n",
              "    \n",
              "</tr>\n",
              "        \n",
              "            <tr style=\"background-color: hsl(120, 100.00%, 92.38%); border: none;\">\n",
              "    <td style=\"padding: 0 1em 0 0.5em; text-align: right; border: none;\">\n",
              "        +0.905\n",
              "    </td>\n",
              "    <td style=\"padding: 0 0.5em 0 0.5em; text-align: left; border: none;\">\n",
              "        ya\n",
              "    </td>\n",
              "    \n",
              "</tr>\n",
              "        \n",
              "            <tr style=\"background-color: hsl(120, 100.00%, 92.39%); border: none;\">\n",
              "    <td style=\"padding: 0 1em 0 0.5em; text-align: right; border: none;\">\n",
              "        +0.903\n",
              "    </td>\n",
              "    <td style=\"padding: 0 0.5em 0 0.5em; text-align: left; border: none;\">\n",
              "        count\n",
              "    </td>\n",
              "    \n",
              "</tr>\n",
              "        \n",
              "            <tr style=\"background-color: hsl(120, 100.00%, 92.40%); border: none;\">\n",
              "    <td style=\"padding: 0 1em 0 0.5em; text-align: right; border: none;\">\n",
              "        +0.902\n",
              "    </td>\n",
              "    <td style=\"padding: 0 0.5em 0 0.5em; text-align: left; border: none;\">\n",
              "        great\n",
              "    </td>\n",
              "    \n",
              "</tr>\n",
              "        \n",
              "            <tr style=\"background-color: hsl(120, 100.00%, 92.41%); border: none;\">\n",
              "    <td style=\"padding: 0 1em 0 0.5em; text-align: right; border: none;\">\n",
              "        +0.899\n",
              "    </td>\n",
              "    <td style=\"padding: 0 0.5em 0 0.5em; text-align: left; border: none;\">\n",
              "        yes\n",
              "    </td>\n",
              "    \n",
              "</tr>\n",
              "        \n",
              "            <tr style=\"background-color: hsl(120, 100.00%, 92.42%); border: none;\">\n",
              "    <td style=\"padding: 0 1em 0 0.5em; text-align: right; border: none;\">\n",
              "        +0.899\n",
              "    </td>\n",
              "    <td style=\"padding: 0 0.5em 0 0.5em; text-align: left; border: none;\">\n",
              "        real\n",
              "    </td>\n",
              "    \n",
              "</tr>\n",
              "        \n",
              "            <tr style=\"background-color: hsl(120, 100.00%, 92.46%); border: none;\">\n",
              "    <td style=\"padding: 0 1em 0 0.5em; text-align: right; border: none;\">\n",
              "        +0.891\n",
              "    </td>\n",
              "    <td style=\"padding: 0 0.5em 0 0.5em; text-align: left; border: none;\">\n",
              "        added\n",
              "    </td>\n",
              "    \n",
              "</tr>\n",
              "        \n",
              "            <tr style=\"background-color: hsl(120, 100.00%, 92.54%); border: none;\">\n",
              "    <td style=\"padding: 0 1em 0 0.5em; text-align: right; border: none;\">\n",
              "        +0.879\n",
              "    </td>\n",
              "    <td style=\"padding: 0 0.5em 0 0.5em; text-align: left; border: none;\">\n",
              "        needs\n",
              "    </td>\n",
              "    \n",
              "</tr>\n",
              "        \n",
              "            <tr style=\"background-color: hsl(120, 100.00%, 92.54%); border: none;\">\n",
              "    <td style=\"padding: 0 1em 0 0.5em; text-align: right; border: none;\">\n",
              "        +0.878\n",
              "    </td>\n",
              "    <td style=\"padding: 0 0.5em 0 0.5em; text-align: left; border: none;\">\n",
              "        anti\n",
              "    </td>\n",
              "    \n",
              "</tr>\n",
              "        \n",
              "            <tr style=\"background-color: hsl(120, 100.00%, 92.55%); border: none;\">\n",
              "    <td style=\"padding: 0 1em 0 0.5em; text-align: right; border: none;\">\n",
              "        +0.876\n",
              "    </td>\n",
              "    <td style=\"padding: 0 0.5em 0 0.5em; text-align: left; border: none;\">\n",
              "        stop\n",
              "    </td>\n",
              "    \n",
              "</tr>\n",
              "        \n",
              "            <tr style=\"background-color: hsl(120, 100.00%, 92.55%); border: none;\">\n",
              "    <td style=\"padding: 0 1em 0 0.5em; text-align: right; border: none;\">\n",
              "        +0.876\n",
              "    </td>\n",
              "    <td style=\"padding: 0 0.5em 0 0.5em; text-align: left; border: none;\">\n",
              "        wait\n",
              "    </td>\n",
              "    \n",
              "</tr>\n",
              "        \n",
              "            <tr style=\"background-color: hsl(120, 100.00%, 92.57%); border: none;\">\n",
              "    <td style=\"padding: 0 1em 0 0.5em; text-align: right; border: none;\">\n",
              "        +0.873\n",
              "    </td>\n",
              "    <td style=\"padding: 0 0.5em 0 0.5em; text-align: left; border: none;\">\n",
              "        kids\n",
              "    </td>\n",
              "    \n",
              "</tr>\n",
              "        \n",
              "            <tr style=\"background-color: hsl(120, 100.00%, 92.61%); border: none;\">\n",
              "    <td style=\"padding: 0 1em 0 0.5em; text-align: right; border: none;\">\n",
              "        +0.866\n",
              "    </td>\n",
              "    <td style=\"padding: 0 0.5em 0 0.5em; text-align: left; border: none;\">\n",
              "        bet\n",
              "    </td>\n",
              "    \n",
              "</tr>\n",
              "        \n",
              "            <tr style=\"background-color: hsl(120, 100.00%, 92.70%); border: none;\">\n",
              "    <td style=\"padding: 0 1em 0 0.5em; text-align: right; border: none;\">\n",
              "        +0.851\n",
              "    </td>\n",
              "    <td style=\"padding: 0 0.5em 0 0.5em; text-align: left; border: none;\">\n",
              "        gun\n",
              "    </td>\n",
              "    \n",
              "</tr>\n",
              "        \n",
              "            <tr style=\"background-color: hsl(120, 100.00%, 92.72%); border: none;\">\n",
              "    <td style=\"padding: 0 1em 0 0.5em; text-align: right; border: none;\">\n",
              "        +0.848\n",
              "    </td>\n",
              "    <td style=\"padding: 0 0.5em 0 0.5em; text-align: left; border: none;\">\n",
              "        allowed\n",
              "    </td>\n",
              "    \n",
              "</tr>\n",
              "        \n",
              "            <tr style=\"background-color: hsl(120, 100.00%, 92.78%); border: none;\">\n",
              "    <td style=\"padding: 0 1em 0 0.5em; text-align: right; border: none;\">\n",
              "        +0.838\n",
              "    </td>\n",
              "    <td style=\"padding: 0 0.5em 0 0.5em; text-align: left; border: none;\">\n",
              "        market\n",
              "    </td>\n",
              "    \n",
              "</tr>\n",
              "        \n",
              "            <tr style=\"background-color: hsl(120, 100.00%, 92.85%); border: none;\">\n",
              "    <td style=\"padding: 0 1em 0 0.5em; text-align: right; border: none;\">\n",
              "        +0.826\n",
              "    </td>\n",
              "    <td style=\"padding: 0 0.5em 0 0.5em; text-align: left; border: none;\">\n",
              "        media\n",
              "    </td>\n",
              "    \n",
              "</tr>\n",
              "        \n",
              "            <tr style=\"background-color: hsl(120, 100.00%, 92.90%); border: none;\">\n",
              "    <td style=\"padding: 0 1em 0 0.5em; text-align: right; border: none;\">\n",
              "        +0.819\n",
              "    </td>\n",
              "    <td style=\"padding: 0 0.5em 0 0.5em; text-align: left; border: none;\">\n",
              "        girls\n",
              "    </td>\n",
              "    \n",
              "</tr>\n",
              "        \n",
              "            <tr style=\"background-color: hsl(120, 100.00%, 92.90%); border: none;\">\n",
              "    <td style=\"padding: 0 1em 0 0.5em; text-align: right; border: none;\">\n",
              "        +0.817\n",
              "    </td>\n",
              "    <td style=\"padding: 0 0.5em 0 0.5em; text-align: left; border: none;\">\n",
              "        internet\n",
              "    </td>\n",
              "    \n",
              "</tr>\n",
              "        \n",
              "            <tr style=\"background-color: hsl(120, 100.00%, 92.92%); border: none;\">\n",
              "    <td style=\"padding: 0 1em 0 0.5em; text-align: right; border: none;\">\n",
              "        +0.815\n",
              "    </td>\n",
              "    <td style=\"padding: 0 0.5em 0 0.5em; text-align: left; border: none;\">\n",
              "        american\n",
              "    </td>\n",
              "    \n",
              "</tr>\n",
              "        \n",
              "            <tr style=\"background-color: hsl(120, 100.00%, 92.92%); border: none;\">\n",
              "    <td style=\"padding: 0 1em 0 0.5em; text-align: right; border: none;\">\n",
              "        +0.815\n",
              "    </td>\n",
              "    <td style=\"padding: 0 0.5em 0 0.5em; text-align: left; border: none;\">\n",
              "        needed\n",
              "    </td>\n",
              "    \n",
              "</tr>\n",
              "        \n",
              "            <tr style=\"background-color: hsl(120, 100.00%, 92.92%); border: none;\">\n",
              "    <td style=\"padding: 0 1em 0 0.5em; text-align: right; border: none;\">\n",
              "        +0.815\n",
              "    </td>\n",
              "    <td style=\"padding: 0 0.5em 0 0.5em; text-align: left; border: none;\">\n",
              "        completely\n",
              "    </td>\n",
              "    \n",
              "</tr>\n",
              "        \n",
              "            <tr style=\"background-color: hsl(120, 100.00%, 92.93%); border: none;\">\n",
              "    <td style=\"padding: 0 1em 0 0.5em; text-align: right; border: none;\">\n",
              "        +0.813\n",
              "    </td>\n",
              "    <td style=\"padding: 0 0.5em 0 0.5em; text-align: left; border: none;\">\n",
              "        mean\n",
              "    </td>\n",
              "    \n",
              "</tr>\n",
              "        \n",
              "            <tr style=\"background-color: hsl(120, 100.00%, 93.01%); border: none;\">\n",
              "    <td style=\"padding: 0 1em 0 0.5em; text-align: right; border: none;\">\n",
              "        +0.799\n",
              "    </td>\n",
              "    <td style=\"padding: 0 0.5em 0 0.5em; text-align: left; border: none;\">\n",
              "        original\n",
              "    </td>\n",
              "    \n",
              "</tr>\n",
              "        \n",
              "            <tr style=\"background-color: hsl(120, 100.00%, 93.11%); border: none;\">\n",
              "    <td style=\"padding: 0 1em 0 0.5em; text-align: right; border: none;\">\n",
              "        +0.783\n",
              "    </td>\n",
              "    <td style=\"padding: 0 0.5em 0 0.5em; text-align: left; border: none;\">\n",
              "        wonder\n",
              "    </td>\n",
              "    \n",
              "</tr>\n",
              "        \n",
              "            <tr style=\"background-color: hsl(120, 100.00%, 93.12%); border: none;\">\n",
              "    <td style=\"padding: 0 1em 0 0.5em; text-align: right; border: none;\">\n",
              "        +0.783\n",
              "    </td>\n",
              "    <td style=\"padding: 0 0.5em 0 0.5em; text-align: left; border: none;\">\n",
              "        fix\n",
              "    </td>\n",
              "    \n",
              "</tr>\n",
              "        \n",
              "        \n",
              "            <tr style=\"background-color: hsl(120, 100.00%, 93.12%); border: none;\">\n",
              "                <td colspan=\"2\" style=\"padding: 0 0.5em 0 0.5em; text-align: center; border: none; white-space: nowrap;\">\n",
              "                    <i>&hellip; 225 more positive &hellip;</i>\n",
              "                </td>\n",
              "            </tr>\n",
              "        \n",
              "\n",
              "        \n",
              "            <tr style=\"background-color: hsl(0, 100.00%, 93.07%); border: none;\">\n",
              "                <td colspan=\"2\" style=\"padding: 0 0.5em 0 0.5em; text-align: center; border: none; white-space: nowrap;\">\n",
              "                    <i>&hellip; 175 more negative &hellip;</i>\n",
              "                </td>\n",
              "            </tr>\n",
              "        \n",
              "        \n",
              "            <tr style=\"background-color: hsl(0, 100.00%, 93.07%); border: none;\">\n",
              "    <td style=\"padding: 0 1em 0 0.5em; text-align: right; border: none;\">\n",
              "        -0.790\n",
              "    </td>\n",
              "    <td style=\"padding: 0 0.5em 0 0.5em; text-align: left; border: none;\">\n",
              "        holy\n",
              "    </td>\n",
              "    \n",
              "</tr>\n",
              "        \n",
              "            <tr style=\"background-color: hsl(0, 100.00%, 93.03%); border: none;\">\n",
              "    <td style=\"padding: 0 1em 0 0.5em; text-align: right; border: none;\">\n",
              "        -0.796\n",
              "    </td>\n",
              "    <td style=\"padding: 0 0.5em 0 0.5em; text-align: left; border: none;\">\n",
              "        lol\n",
              "    </td>\n",
              "    \n",
              "</tr>\n",
              "        \n",
              "            <tr style=\"background-color: hsl(0, 100.00%, 92.96%); border: none;\">\n",
              "    <td style=\"padding: 0 1em 0 0.5em; text-align: right; border: none;\">\n",
              "        -0.808\n",
              "    </td>\n",
              "    <td style=\"padding: 0 0.5em 0 0.5em; text-align: left; border: none;\">\n",
              "        question\n",
              "    </td>\n",
              "    \n",
              "</tr>\n",
              "        \n",
              "            <tr style=\"background-color: hsl(0, 100.00%, 92.75%); border: none;\">\n",
              "    <td style=\"padding: 0 1em 0 0.5em; text-align: right; border: none;\">\n",
              "        -0.843\n",
              "    </td>\n",
              "    <td style=\"padding: 0 0.5em 0 0.5em; text-align: left; border: none;\">\n",
              "        night\n",
              "    </td>\n",
              "    \n",
              "</tr>\n",
              "        \n",
              "            <tr style=\"background-color: hsl(0, 100.00%, 92.71%); border: none;\">\n",
              "    <td style=\"padding: 0 1em 0 0.5em; text-align: right; border: none;\">\n",
              "        -0.849\n",
              "    </td>\n",
              "    <td style=\"padding: 0 0.5em 0 0.5em; text-align: left; border: none;\">\n",
              "        version\n",
              "    </td>\n",
              "    \n",
              "</tr>\n",
              "        \n",
              "            <tr style=\"background-color: hsl(0, 100.00%, 92.69%); border: none;\">\n",
              "    <td style=\"padding: 0 1em 0 0.5em; text-align: right; border: none;\">\n",
              "        -0.853\n",
              "    </td>\n",
              "    <td style=\"padding: 0 0.5em 0 0.5em; text-align: left; border: none;\">\n",
              "        friend\n",
              "    </td>\n",
              "    \n",
              "</tr>\n",
              "        \n",
              "            <tr style=\"background-color: hsl(0, 100.00%, 92.22%); border: none;\">\n",
              "    <td style=\"padding: 0 1em 0 0.5em; text-align: right; border: none;\">\n",
              "        -0.932\n",
              "    </td>\n",
              "    <td style=\"padding: 0 0.5em 0 0.5em; text-align: left; border: none;\">\n",
              "        wish\n",
              "    </td>\n",
              "    \n",
              "</tr>\n",
              "        \n",
              "            <tr style=\"background-color: hsl(0, 100.00%, 92.16%); border: none;\">\n",
              "    <td style=\"padding: 0 1em 0 0.5em; text-align: right; border: none;\">\n",
              "        -0.943\n",
              "    </td>\n",
              "    <td style=\"padding: 0 0.5em 0 0.5em; text-align: left; border: none;\">\n",
              "        ago\n",
              "    </td>\n",
              "    \n",
              "</tr>\n",
              "        \n",
              "            <tr style=\"background-color: hsl(0, 100.00%, 91.69%); border: none;\">\n",
              "    <td style=\"padding: 0 1em 0 0.5em; text-align: right; border: none;\">\n",
              "        -1.025\n",
              "    </td>\n",
              "    <td style=\"padding: 0 0.5em 0 0.5em; text-align: left; border: none;\">\n",
              "        interesting\n",
              "    </td>\n",
              "    \n",
              "</tr>\n",
              "        \n",
              "            <tr style=\"background-color: hsl(0, 100.00%, 91.08%); border: none;\">\n",
              "    <td style=\"padding: 0 1em 0 0.5em; text-align: right; border: none;\">\n",
              "        -1.134\n",
              "    </td>\n",
              "    <td style=\"padding: 0 0.5em 0 0.5em; text-align: left; border: none;\">\n",
              "        link\n",
              "    </td>\n",
              "    \n",
              "</tr>\n",
              "        \n",
              "            <tr style=\"background-color: hsl(0, 100.00%, 90.95%); border: none;\">\n",
              "    <td style=\"padding: 0 1em 0 0.5em; text-align: right; border: none;\">\n",
              "        -1.157\n",
              "    </td>\n",
              "    <td style=\"padding: 0 0.5em 0 0.5em; text-align: left; border: none;\">\n",
              "        lot\n",
              "    </td>\n",
              "    \n",
              "</tr>\n",
              "        \n",
              "            <tr style=\"background-color: hsl(0, 100.00%, 90.94%); border: none;\">\n",
              "    <td style=\"padding: 0 1em 0 0.5em; text-align: right; border: none;\">\n",
              "        -1.160\n",
              "    </td>\n",
              "    <td style=\"padding: 0 0.5em 0 0.5em; text-align: left; border: none;\">\n",
              "        bit\n",
              "    </td>\n",
              "    \n",
              "</tr>\n",
              "        \n",
              "            <tr style=\"background-color: hsl(0, 100.00%, 90.88%); border: none;\">\n",
              "    <td style=\"padding: 0 1em 0 0.5em; text-align: right; border: none;\">\n",
              "        -1.170\n",
              "    </td>\n",
              "    <td style=\"padding: 0 0.5em 0 0.5em; text-align: left; border: none;\">\n",
              "        agree\n",
              "    </td>\n",
              "    \n",
              "</tr>\n",
              "        \n",
              "            <tr style=\"background-color: hsl(0, 100.00%, 90.71%); border: none;\">\n",
              "    <td style=\"padding: 0 1em 0 0.5em; text-align: right; border: none;\">\n",
              "        -1.201\n",
              "    </td>\n",
              "    <td style=\"padding: 0 0.5em 0 0.5em; text-align: left; border: none;\">\n",
              "        quite\n",
              "    </td>\n",
              "    \n",
              "</tr>\n",
              "        \n",
              "            <tr style=\"background-color: hsl(0, 100.00%, 90.30%); border: none;\">\n",
              "    <td style=\"padding: 0 1em 0 0.5em; text-align: right; border: none;\">\n",
              "        -1.278\n",
              "    </td>\n",
              "    <td style=\"padding: 0 0.5em 0 0.5em; text-align: left; border: none;\">\n",
              "        pretty\n",
              "    </td>\n",
              "    \n",
              "</tr>\n",
              "        \n",
              "            <tr style=\"background-color: hsl(0, 100.00%, 89.59%); border: none;\">\n",
              "    <td style=\"padding: 0 1em 0 0.5em; text-align: right; border: none;\">\n",
              "        -1.413\n",
              "    </td>\n",
              "    <td style=\"padding: 0 0.5em 0 0.5em; text-align: left; border: none;\">\n",
              "        kinda\n",
              "    </td>\n",
              "    \n",
              "</tr>\n",
              "        \n",
              "            <tr style=\"background-color: hsl(0, 100.00%, 89.14%); border: none;\">\n",
              "    <td style=\"padding: 0 1em 0 0.5em; text-align: right; border: none;\">\n",
              "        -1.501\n",
              "    </td>\n",
              "    <td style=\"padding: 0 0.5em 0 0.5em; text-align: left; border: none;\">\n",
              "        likely\n",
              "    </td>\n",
              "    \n",
              "</tr>\n",
              "        \n",
              "            <tr style=\"background-color: hsl(0, 100.00%, 88.77%); border: none;\">\n",
              "    <td style=\"padding: 0 1em 0 0.5em; text-align: right; border: none;\">\n",
              "        -1.575\n",
              "    </td>\n",
              "    <td style=\"padding: 0 0.5em 0 0.5em; text-align: left; border: none;\">\n",
              "        usually\n",
              "    </td>\n",
              "    \n",
              "</tr>\n",
              "        \n",
              "            <tr style=\"background-color: hsl(0, 100.00%, 87.53%); border: none;\">\n",
              "    <td style=\"padding: 0 1em 0 0.5em; text-align: right; border: none;\">\n",
              "        -1.830\n",
              "    </td>\n",
              "    <td style=\"padding: 0 0.5em 0 0.5em; text-align: left; border: none;\">\n",
              "        honestly\n",
              "    </td>\n",
              "    \n",
              "</tr>\n",
              "        \n",
              "\n",
              "        </tbody>\n",
              "    </table>\n",
              "\n",
              "            \n",
              "        \n",
              "\n",
              "        \n",
              "\n",
              "\n",
              "\n",
              "    \n",
              "\n",
              "    \n",
              "\n",
              "    \n",
              "\n",
              "    \n",
              "\n",
              "\n",
              "    \n",
              "\n",
              "    \n",
              "\n",
              "    \n",
              "\n",
              "    \n",
              "\n",
              "    \n",
              "\n",
              "    \n",
              "\n",
              "\n",
              "    \n",
              "\n",
              "    \n",
              "\n",
              "    \n",
              "\n",
              "    \n",
              "\n",
              "    \n",
              "\n",
              "    \n",
              "\n",
              "\n",
              "\n"
            ],
            "text/plain": [
              "<IPython.core.display.HTML object>"
            ]
          },
          "metadata": {
            "tags": []
          },
          "execution_count": 25
        }
      ]
    },
    {
      "cell_type": "markdown",
      "metadata": {
        "id": "CnmUFaRDirRh"
      },
      "source": [
        "<p style=\"font-size:40px; text-align: right;\" ><b>Guassian Naive Bayes</b></p>\n"
      ]
    },
    {
      "cell_type": "code",
      "metadata": {
        "colab": {
          "base_uri": "https://localhost:8080/"
        },
        "id": "qnB8Z_YGiwVr",
        "outputId": "543bfa76-c453-4f34-8d4c-ec09728f0c65"
      },
      "source": [
        "%%time\n",
        "GaussianNB_clf_Tf_Idf = GaussianNB()\n",
        "GaussianNB_clf_Tf_Idf.fit(Tf_Idf_train_x.toarray(), y_train)"
      ],
      "execution_count": null,
      "outputs": [
        {
          "output_type": "stream",
          "text": [
            "CPU times: user 6.89 s, sys: 5.04 s, total: 11.9 s\n",
            "Wall time: 11.9 s\n"
          ],
          "name": "stdout"
        }
      ]
    },
    {
      "cell_type": "code",
      "metadata": {
        "id": "feImf1h1i2L4"
      },
      "source": [
        "Tf_Idf_GaussianNB_clf_train_pred = GaussianNB_clf_Tf_Idf.predict(Tf_Idf_train_x.toarray())\n",
        "Tf_Idf_GaussianNB_clf_test_pred = GaussianNB_clf_Tf_Idf.predict(Tf_Idf_test_x.toarray())\n",
        "# with above cell almost 100MG"
      ],
      "execution_count": null,
      "outputs": []
    },
    {
      "cell_type": "code",
      "metadata": {
        "id": "CeTdddnijUYY",
        "colab": {
          "base_uri": "https://localhost:8080/",
          "height": 449
        },
        "outputId": "23c274d5-3858-491e-c958-7a3935524afa"
      },
      "source": [
        "print(\"logistic regression report on train data\")\n",
        "classification_rep(Tf_Idf_GaussianNB_clf_train_pred, y_train)"
      ],
      "execution_count": null,
      "outputs": [
        {
          "output_type": "stream",
          "text": [
            "logistic regression report on train data\n",
            "              precision    recall  f1-score   support\n",
            "\n",
            "     class 0       0.59      0.74      0.66    404225\n",
            "     class 1       0.65      0.49      0.56    404735\n",
            "\n",
            "    accuracy                           0.61    808960\n",
            "   macro avg       0.62      0.61      0.61    808960\n",
            "weighted avg       0.62      0.61      0.61    808960\n",
            "\n"
          ],
          "name": "stdout"
        },
        {
          "output_type": "display_data",
          "data": {
            "image/png": "[encoded data removed]",
            "text/plain": [
              "<Figure size 432x288 with 1 Axes>"
            ]
          },
          "metadata": {
            "tags": [],
            "needs_background": "light"
          }
        }
      ]
    },
    {
      "cell_type": "code",
      "metadata": {
        "id": "Q_B_svmijY47",
        "colab": {
          "base_uri": "https://localhost:8080/",
          "height": 449
        },
        "outputId": "e971401f-b7f7-4d9d-99a3-7c5044ea1d6b"
      },
      "source": [
        "print(\"logistic regression report on test data\")\n",
        "classification_rep(Tf_Idf_GaussianNB_clf_test_pred, y_test)"
      ],
      "execution_count": null,
      "outputs": [
        {
          "output_type": "stream",
          "text": [
            "logistic regression report on test data\n",
            "              precision    recall  f1-score   support\n",
            "\n",
            "     class 0       0.59      0.73      0.66    101180\n",
            "     class 1       0.65      0.49      0.56    100633\n",
            "\n",
            "    accuracy                           0.61    201813\n",
            "   macro avg       0.62      0.61      0.61    201813\n",
            "weighted avg       0.62      0.61      0.61    201813\n",
            "\n"
          ],
          "name": "stdout"
        },
        {
          "output_type": "display_data",
          "data": {
            "image/png": "[encoded data removed]",
            "text/plain": [
              "<Figure size 432x288 with 1 Axes>"
            ]
          },
          "metadata": {
            "tags": [],
            "needs_background": "light"
          }
        }
      ]
    },
    {
      "cell_type": "markdown",
      "metadata": {
        "id": "8wtwQY4r31vF"
      },
      "source": [
        "<p style=\"font-size:40px; text-align: right;\" ><b>SVM</b></p>"
      ]
    },
    {
      "cell_type": "code",
      "metadata": {
        "id": "2-qAODsbordG",
        "colab": {
          "base_uri": "https://localhost:8080/"
        },
        "outputId": "7b9ba5ea-3a07-4d3f-e0b0-8e0d08c5f6b4"
      },
      "source": [
        "%%time\n",
        "SVM_clf_Tf_Idf = svm.LinearSVC(random_state=0, tol=1e-5)\n",
        "# rows = np.random.choice(list(range(len(train_data))), size=100000, replace=False)\n",
        "SVM_clf_Tf_Idf.fit(Tf_Idf_train_x.toarray(), y_train)"
      ],
      "execution_count": null,
      "outputs": [
        {
          "output_type": "stream",
          "text": [
            "CPU times: user 2min 56s, sys: 0 ns, total: 2min 56s\n",
            "Wall time: 2min 56s\n"
          ],
          "name": "stdout"
        }
      ]
    },
    {
      "cell_type": "code",
      "metadata": {
        "id": "C6H8LhWg9_JQ"
      },
      "source": [
        "Tf_Idf_SVM_clf_train_pred = SVM_clf_Tf_Idf.predict(Tf_Idf_train_x.toarray())\n",
        "Tf_Idf_SVM_clf_test_pred = SVM_clf_Tf_Idf.predict(Tf_Idf_test_x.toarray())"
      ],
      "execution_count": null,
      "outputs": []
    },
    {
      "cell_type": "code",
      "metadata": {
        "id": "7121VHMq04cM",
        "colab": {
          "base_uri": "https://localhost:8080/",
          "height": 449
        },
        "outputId": "265a98af-d2b0-4efb-ae4f-b81709a4914f"
      },
      "source": [
        "print(\"SVM report on train data\")\n",
        "classification_rep(Tf_Idf_SVM_clf_train_pred, y_train)"
      ],
      "execution_count": null,
      "outputs": [
        {
          "output_type": "stream",
          "text": [
            "SVM report on train data\n",
            "              precision    recall  f1-score   support\n",
            "\n",
            "     class 0       0.61      0.73      0.66    404225\n",
            "     class 1       0.66      0.53      0.59    404735\n",
            "\n",
            "    accuracy                           0.63    808960\n",
            "   macro avg       0.63      0.63      0.63    808960\n",
            "weighted avg       0.64      0.63      0.63    808960\n",
            "\n"
          ],
          "name": "stdout"
        },
        {
          "output_type": "display_data",
          "data": {
            "image/png": "[encoded data removed]",
            "text/plain": [
              "<Figure size 432x288 with 1 Axes>"
            ]
          },
          "metadata": {
            "tags": [],
            "needs_background": "light"
          }
        }
      ]
    },
    {
      "cell_type": "code",
      "metadata": {
        "colab": {
          "base_uri": "https://localhost:8080/",
          "height": 449
        },
        "id": "omPfKk2K1n0f",
        "outputId": "a47c7c20-9b89-482a-a3b8-82e1888b110c"
      },
      "source": [
        "print(\"SVM report on test data\")\n",
        "classification_rep(Tf_Idf_SVM_clf_test_pred, y_test)"
      ],
      "execution_count": null,
      "outputs": [
        {
          "output_type": "stream",
          "text": [
            "SVM report on test data\n",
            "              precision    recall  f1-score   support\n",
            "\n",
            "     class 0       0.61      0.72      0.66    101180\n",
            "     class 1       0.66      0.53      0.59    100633\n",
            "\n",
            "    accuracy                           0.63    201813\n",
            "   macro avg       0.63      0.63      0.63    201813\n",
            "weighted avg       0.63      0.63      0.63    201813\n",
            "\n"
          ],
          "name": "stdout"
        },
        {
          "output_type": "display_data",
          "data": {
            "image/png": "[encoded data removed]",
            "text/plain": [
              "<Figure size 432x288 with 1 Axes>"
            ]
          },
          "metadata": {
            "tags": [],
            "needs_background": "light"
          }
        }
      ]
    },
    {
      "cell_type": "markdown",
      "metadata": {
        "id": "k2s_hhUeQuCi"
      },
      "source": [
        "<p style=\"font-size:40px; text-align: right;\" ><b>Nueral Network</b></p>\n"
      ]
    },
    {
      "cell_type": "code",
      "metadata": {
        "id": "e764BA0RQuQD",
        "colab": {
          "base_uri": "https://localhost:8080/"
        },
        "outputId": "7af84c02-1e17-4762-e41c-e1d6195db17f"
      },
      "source": [
        "%%time\n",
        "NN_clf_Tf_Idf = Sequential()\n",
        "NN_clf_Tf_Idf.add(Dense(50, input_dim=Tf_Idf_train_x.shape[1], activation='relu'))\n",
        "NN_clf_Tf_Idf.add(Dense(12, activation='relu'))\n",
        "NN_clf_Tf_Idf.add(Dense(2, activation='softmax'))"
      ],
      "execution_count": null,
      "outputs": [
        {
          "output_type": "stream",
          "text": [
            "CPU times: user 55.5 ms, sys: 18.1 ms, total: 73.6 ms\n",
            "Wall time: 374 ms\n"
          ],
          "name": "stdout"
        }
      ]
    },
    {
      "cell_type": "code",
      "metadata": {
        "id": "FrPbdLEsRE5R"
      },
      "source": [
        "NN_clf_Tf_Idf.compile(loss='binary_crossentropy', optimizer='adam', metrics=['accuracy'])"
      ],
      "execution_count": null,
      "outputs": []
    },
    {
      "cell_type": "code",
      "metadata": {
        "id": "jFSl-9yrRJLP",
        "colab": {
          "base_uri": "https://localhost:8080/"
        },
        "outputId": "b07ef5d8-e9fb-42b0-e771-a6d229d91b31"
      },
      "source": [
        "%%time\n",
        "# using validation data with it uses lots of ram leading to crashing\n",
        "# NN_clf_Tf_Idf_history = NN_clf_Tf_Idf.fit(Tf_Idf_train_x.toarray(), y_train_one_hot, validation_data = (Tf_Idf_train_x.toarray(),y_test_one_hot), epochs=5, batch_size=64)\n",
        "NN_clf_Tf_Idf_history = NN_clf_Tf_Idf.fit(Tf_Idf_train_x.toarray(), y_train_one_hot, epochs=30, batch_size=64)"
      ],
      "execution_count": null,
      "outputs": [
        {
          "output_type": "stream",
          "text": [
            "Epoch 1/30\n",
            "12640/12640 [==============================] - 36s 2ms/step - loss: 0.6418 - accuracy: 0.6237\n",
            "Epoch 2/30\n",
            "12640/12640 [==============================] - 22s 2ms/step - loss: 0.6263 - accuracy: 0.6391\n",
            "Epoch 3/30\n",
            "12640/12640 [==============================] - 21s 2ms/step - loss: 0.6222 - accuracy: 0.6426\n",
            "Epoch 4/30\n",
            "12640/12640 [==============================] - 21s 2ms/step - loss: 0.6184 - accuracy: 0.6462\n",
            "Epoch 5/30\n",
            "12640/12640 [==============================] - 22s 2ms/step - loss: 0.6152 - accuracy: 0.6489\n",
            "Epoch 6/30\n",
            "12640/12640 [==============================] - 22s 2ms/step - loss: 0.6127 - accuracy: 0.6510\n",
            "Epoch 7/30\n",
            "12640/12640 [==============================] - 21s 2ms/step - loss: 0.6110 - accuracy: 0.6519\n",
            "Epoch 8/30\n",
            "12640/12640 [==============================] - 22s 2ms/step - loss: 0.6090 - accuracy: 0.6534\n",
            "Epoch 9/30\n",
            "12640/12640 [==============================] - 22s 2ms/step - loss: 0.6072 - accuracy: 0.6553\n",
            "Epoch 10/30\n",
            "12640/12640 [==============================] - 22s 2ms/step - loss: 0.6063 - accuracy: 0.6560\n",
            "Epoch 11/30\n",
            "12640/12640 [==============================] - 22s 2ms/step - loss: 0.6051 - accuracy: 0.6571\n",
            "Epoch 12/30\n",
            "12640/12640 [==============================] - 22s 2ms/step - loss: 0.6040 - accuracy: 0.6571\n",
            "Epoch 13/30\n",
            "12640/12640 [==============================] - 22s 2ms/step - loss: 0.6034 - accuracy: 0.6584\n",
            "Epoch 14/30\n",
            "12640/12640 [==============================] - 22s 2ms/step - loss: 0.6027 - accuracy: 0.6591\n",
            "Epoch 15/30\n",
            "12640/12640 [==============================] - 22s 2ms/step - loss: 0.6015 - accuracy: 0.6598\n",
            "Epoch 16/30\n",
            "12640/12640 [==============================] - 22s 2ms/step - loss: 0.6014 - accuracy: 0.6600\n",
            "Epoch 17/30\n",
            "12640/12640 [==============================] - 21s 2ms/step - loss: 0.6000 - accuracy: 0.6611\n",
            "Epoch 18/30\n",
            "12640/12640 [==============================] - 22s 2ms/step - loss: 0.5998 - accuracy: 0.6610\n",
            "Epoch 19/30\n",
            "12640/12640 [==============================] - 22s 2ms/step - loss: 0.5997 - accuracy: 0.6602\n",
            "Epoch 20/30\n",
            "12640/12640 [==============================] - 22s 2ms/step - loss: 0.5993 - accuracy: 0.6614\n",
            "Epoch 21/30\n",
            "12640/12640 [==============================] - 22s 2ms/step - loss: 0.5985 - accuracy: 0.6615\n",
            "Epoch 22/30\n",
            "12640/12640 [==============================] - 22s 2ms/step - loss: 0.5985 - accuracy: 0.6616\n",
            "Epoch 23/30\n",
            "12640/12640 [==============================] - 22s 2ms/step - loss: 0.5978 - accuracy: 0.6627\n",
            "Epoch 24/30\n",
            "12640/12640 [==============================] - 22s 2ms/step - loss: 0.5972 - accuracy: 0.6626\n",
            "Epoch 25/30\n",
            "12640/12640 [==============================] - 22s 2ms/step - loss: 0.5974 - accuracy: 0.6626\n",
            "Epoch 26/30\n",
            "12640/12640 [==============================] - 22s 2ms/step - loss: 0.5969 - accuracy: 0.6630\n",
            "Epoch 27/30\n",
            "12640/12640 [==============================] - 22s 2ms/step - loss: 0.5968 - accuracy: 0.6634\n",
            "Epoch 28/30\n",
            "12640/12640 [==============================] - 22s 2ms/step - loss: 0.5955 - accuracy: 0.6641\n",
            "Epoch 29/30\n",
            "12640/12640 [==============================] - 22s 2ms/step - loss: 0.5953 - accuracy: 0.6649\n",
            "Epoch 30/30\n",
            "12640/12640 [==============================] - 22s 2ms/step - loss: 0.5956 - accuracy: 0.6637\n",
            "CPU times: user 13min 39s, sys: 1min 3s, total: 14min 43s\n",
            "Wall time: 11min 37s\n"
          ],
          "name": "stdout"
        }
      ]
    },
    {
      "cell_type": "code",
      "metadata": {
        "id": "m3b1KBbFRJNb"
      },
      "source": [
        "Tf_Idf_NN_clf_train_pred = NN_clf_Tf_Idf.predict(Tf_Idf_train_x.toarray())\n",
        "Tf_Idf_NN_clf_train_pred = np.array([np.argmax(Tf_Idf_NN_clf_train_pred[i]) for i in range(len(Tf_Idf_NN_clf_train_pred))])\n",
        "\n",
        "Tf_Idf_NN_clf_test_pred = NN_clf_Tf_Idf.predict(Tf_Idf_test_x.toarray())\n",
        "Tf_Idf_NN_clf_test_pred = np.array([np.argmax(Tf_Idf_NN_clf_test_pred[i]) for i in range(len(Tf_Idf_NN_clf_test_pred))])"
      ],
      "execution_count": null,
      "outputs": []
    },
    {
      "cell_type": "code",
      "metadata": {
        "colab": {
          "base_uri": "https://localhost:8080/",
          "height": 449
        },
        "id": "5adlTl6JUoh6",
        "outputId": "04b0bbfa-3110-4012-ffb7-9deecee72ddf"
      },
      "source": [
        "print(\"NN report on train data\")\n",
        "classification_rep(Tf_Idf_NN_clf_train_pred, y_train)"
      ],
      "execution_count": null,
      "outputs": [
        {
          "output_type": "stream",
          "text": [
            "NN report on train data\n",
            "              precision    recall  f1-score   support\n",
            "\n",
            "     class 0       0.63      0.79      0.70    404225\n",
            "     class 1       0.72      0.54      0.62    404735\n",
            "\n",
            "    accuracy                           0.67    808960\n",
            "   macro avg       0.68      0.67      0.66    808960\n",
            "weighted avg       0.68      0.67      0.66    808960\n",
            "\n"
          ],
          "name": "stdout"
        },
        {
          "output_type": "display_data",
          "data": {
            "image/png": "[encoded data removed]",
            "text/plain": [
              "<Figure size 432x288 with 1 Axes>"
            ]
          },
          "metadata": {
            "tags": [],
            "needs_background": "light"
          }
        }
      ]
    },
    {
      "cell_type": "code",
      "metadata": {
        "colab": {
          "base_uri": "https://localhost:8080/",
          "height": 449
        },
        "id": "YXQszArmUqZA",
        "outputId": "86020c88-0a6d-4292-ee81-5773d36cfcbc"
      },
      "source": [
        "print(\"NN report on test data\")\n",
        "classification_rep(Tf_Idf_NN_clf_test_pred, y_test)"
      ],
      "execution_count": null,
      "outputs": [
        {
          "output_type": "stream",
          "text": [
            "NN report on test data\n",
            "              precision    recall  f1-score   support\n",
            "\n",
            "     class 0       0.61      0.76      0.68    101180\n",
            "     class 1       0.68      0.51      0.59    100633\n",
            "\n",
            "    accuracy                           0.64    201813\n",
            "   macro avg       0.64      0.64      0.63    201813\n",
            "weighted avg       0.64      0.64      0.63    201813\n",
            "\n"
          ],
          "name": "stdout"
        },
        {
          "output_type": "display_data",
          "data": {
            "image/png": "[encoded data removed]",
            "text/plain": [
              "<Figure size 432x288 with 1 Axes>"
            ]
          },
          "metadata": {
            "tags": [],
            "needs_background": "light"
          }
        }
      ]
    },
    {
      "cell_type": "code",
      "metadata": {
        "colab": {
          "base_uri": "https://localhost:8080/",
          "height": 295
        },
        "id": "da8-jV5nXeD6",
        "outputId": "96fc63b1-301e-4540-c1c6-d3933b334c1d"
      },
      "source": [
        "plt.plot(NN_clf_Tf_Idf_history.history['accuracy'])\n",
        "plt.plot(NN_clf_Tf_Idf_history.history['accuracy'])\n",
        "plt.plot(NN_clf_Tf_Idf_history.history['loss'])\n",
        "plt.title('Model accuracy')\n",
        "plt.ylabel('Accuracy')\n",
        "plt.xlabel('Epoch')\n",
        "plt.legend(['accuracy', 'loss'], loc='upper left')\n",
        "plt.show()"
      ],
      "execution_count": null,
      "outputs": [
        {
          "output_type": "display_data",
          "data": {
            "image/png": "[encoded data removed]",
            "text/plain": [
              "<Figure size 432x288 with 1 Axes>"
            ]
          },
          "metadata": {
            "tags": [],
            "needs_background": "light"
          }
        }
      ]
    },
    {
      "cell_type": "markdown",
      "metadata": {
        "id": "9uuUqtUH_13j"
      },
      "source": [
        "# <p style=\"font-size:40px; text-align: right;\" ><b>Testing Word2Vec </b></p>\n"
      ]
    },
    {
      "cell_type": "markdown",
      "metadata": {
        "id": "e1e6u88DEa9J"
      },
      "source": [
        "<p style=\"font-size:40px; text-align: right;\" ><b>Loggistic regression</b></p>\n"
      ]
    },
    {
      "cell_type": "code",
      "metadata": {
        "colab": {
          "base_uri": "https://localhost:8080/"
        },
        "id": "jdOh8Eue-znu",
        "outputId": "0121e480-30be-4022-84b9-88139604cfe9"
      },
      "source": [
        "%%time\n",
        "LR_clf_word2vec = LogisticRegression(random_state=0, penalty=\"l2\", max_iter = 1000, n_jobs=-1)\n",
        "LR_clf_word2vec.fit(word2vec_train_x, y_train)"
      ],
      "execution_count": null,
      "outputs": [
        {
          "output_type": "stream",
          "text": [
            "CPU times: user 2.43 s, sys: 1.46 s, total: 3.88 s\n",
            "Wall time: 5min 53s\n"
          ],
          "name": "stdout"
        }
      ]
    },
    {
      "cell_type": "code",
      "metadata": {
        "id": "xMfUOd65-znx"
      },
      "source": [
        "word2vec_LR_clf_train_pred = LR_clf_word2vec.predict(word2vec_train_x)\n",
        "word2vec_LR_clf_test_pred = LR_clf_word2vec.predict(word2vec_test_x)"
      ],
      "execution_count": null,
      "outputs": []
    },
    {
      "cell_type": "code",
      "metadata": {
        "colab": {
          "base_uri": "https://localhost:8080/",
          "height": 449
        },
        "id": "qmwcxdTY-zny",
        "outputId": "02f74881-730d-4b35-8c07-b2f83e22475e"
      },
      "source": [
        "print(\"logistic regression report on train data\")\n",
        "classification_rep(word2vec_LR_clf_train_pred, y_train)"
      ],
      "execution_count": null,
      "outputs": [
        {
          "output_type": "stream",
          "text": [
            "logistic regression report on train data\n",
            "              precision    recall  f1-score   support\n",
            "\n",
            "     class 0       0.64      0.71      0.67    404225\n",
            "     class 1       0.68      0.61      0.64    404735\n",
            "\n",
            "    accuracy                           0.66    808960\n",
            "   macro avg       0.66      0.66      0.66    808960\n",
            "weighted avg       0.66      0.66      0.66    808960\n",
            "\n"
          ],
          "name": "stdout"
        },
        {
          "output_type": "display_data",
          "data": {
            "image/png": "[encoded data removed]",
            "text/plain": [
              "<Figure size 432x288 with 1 Axes>"
            ]
          },
          "metadata": {
            "tags": [],
            "needs_background": "light"
          }
        }
      ]
    },
    {
      "cell_type": "code",
      "metadata": {
        "colab": {
          "base_uri": "https://localhost:8080/",
          "height": 449
        },
        "id": "wGjIu76U-zny",
        "outputId": "230780e0-d0c7-424f-b82f-582951d269f9"
      },
      "source": [
        "print(\"logistic regression report on test data\")\n",
        "classification_rep(word2vec_LR_clf_test_pred, y_test)"
      ],
      "execution_count": null,
      "outputs": [
        {
          "output_type": "stream",
          "text": [
            "logistic regression report on test data\n",
            "              precision    recall  f1-score   support\n",
            "\n",
            "     class 0       0.64      0.71      0.67    101180\n",
            "     class 1       0.67      0.60      0.64    100633\n",
            "\n",
            "    accuracy                           0.66    201813\n",
            "   macro avg       0.66      0.66      0.65    201813\n",
            "weighted avg       0.66      0.66      0.65    201813\n",
            "\n"
          ],
          "name": "stdout"
        },
        {
          "output_type": "display_data",
          "data": {
            "image/png": "[encoded data removed]",
            "text/plain": [
              "<Figure size 432x288 with 1 Axes>"
            ]
          },
          "metadata": {
            "tags": [],
            "needs_background": "light"
          }
        }
      ]
    },
    {
      "cell_type": "markdown",
      "metadata": {
        "id": "J64M3nRcEqME"
      },
      "source": [
        "<p style=\"font-size:40px; text-align: right;\" ><b>Guassian Naive Bayes</b></p>\n"
      ]
    },
    {
      "cell_type": "code",
      "metadata": {
        "colab": {
          "base_uri": "https://localhost:8080/"
        },
        "id": "4czGAIf6EqMH",
        "outputId": "60842b42-f274-468c-a9c7-d801ff76f31b"
      },
      "source": [
        "GaussianNB_clf_word2vec = GaussianNB()\n",
        "GaussianNB_clf_word2vec.fit(word2vec_train_x.toarray(), y_train)"
      ],
      "execution_count": null,
      "outputs": [
        {
          "output_type": "execute_result",
          "data": {
            "text/plain": [
              "GaussianNB(priors=None, var_smoothing=1e-09)"
            ]
          },
          "metadata": {
            "tags": []
          },
          "execution_count": 94
        }
      ]
    },
    {
      "cell_type": "code",
      "metadata": {
        "id": "NsvrOZKLEqMI"
      },
      "source": [
        "word2vec_GaussianNB_clf_train_pred = GaussianNB_clf_word2vec.predict(word2vec_train_x.toarray())\n",
        "word2vec_GaussianNB_clf_test_pred = GaussianNB_clf_word2vec.predict(word2vec_test_x.toarray())"
      ],
      "execution_count": null,
      "outputs": []
    },
    {
      "cell_type": "code",
      "metadata": {
        "colab": {
          "base_uri": "https://localhost:8080/",
          "height": 449
        },
        "id": "x_rCICfSEqMI",
        "outputId": "06888f2b-91e8-435e-eebf-04072818f899"
      },
      "source": [
        "print(\"logistic regression report on train data\")\n",
        "classification_rep(word2vec_GaussianNB_clf_train_pred, y_train)"
      ],
      "execution_count": null,
      "outputs": [
        {
          "output_type": "stream",
          "text": [
            "logistic regression report on train data\n",
            "              precision    recall  f1-score   support\n",
            "\n",
            "     class 0       0.57      0.14      0.22    404225\n",
            "     class 1       0.51      0.89      0.65    404735\n",
            "\n",
            "    accuracy                           0.52    808960\n",
            "   macro avg       0.54      0.52      0.44    808960\n",
            "weighted avg       0.54      0.52      0.44    808960\n",
            "\n"
          ],
          "name": "stdout"
        },
        {
          "output_type": "display_data",
          "data": {
            "image/png": "[encoded data removed]",
            "text/plain": [
              "<Figure size 432x288 with 1 Axes>"
            ]
          },
          "metadata": {
            "tags": [],
            "needs_background": "light"
          }
        }
      ]
    },
    {
      "cell_type": "code",
      "metadata": {
        "colab": {
          "base_uri": "https://localhost:8080/",
          "height": 449
        },
        "id": "2b39WtQ1EqMJ",
        "outputId": "79f188af-7b3c-4193-a09a-2c1bf2280fcb"
      },
      "source": [
        "print(\"logistic regression report on test data\")\n",
        "classification_rep(word2vec_GaussianNB_clf_test_pred, y_test)"
      ],
      "execution_count": null,
      "outputs": [
        {
          "output_type": "stream",
          "text": [
            "logistic regression report on test data\n",
            "              precision    recall  f1-score   support\n",
            "\n",
            "     class 0       0.57      0.14      0.22    101180\n",
            "     class 1       0.51      0.90      0.65    100633\n",
            "\n",
            "    accuracy                           0.51    201813\n",
            "   macro avg       0.54      0.52      0.43    201813\n",
            "weighted avg       0.54      0.51      0.43    201813\n",
            "\n"
          ],
          "name": "stdout"
        },
        {
          "output_type": "display_data",
          "data": {
            "image/png": "[encoded data removed]",
            "text/plain": [
              "<Figure size 432x288 with 1 Axes>"
            ]
          },
          "metadata": {
            "tags": [],
            "needs_background": "light"
          }
        }
      ]
    },
    {
      "cell_type": "markdown",
      "metadata": {
        "id": "_FctSdqaEqMJ"
      },
      "source": [
        "<p style=\"font-size:40px; text-align: right;\" ><b>SVM</b></p>"
      ]
    },
    {
      "cell_type": "code",
      "metadata": {
        "colab": {
          "base_uri": "https://localhost:8080/"
        },
        "id": "N80J9vWeEqMJ",
        "outputId": "33badfb9-4426-4502-a5cf-d205bf1690ef"
      },
      "source": [
        "%%time\n",
        "SVM_clf_word2vec = svm.LinearSVC(random_state=0, tol=1e-5)\n",
        "# rows = np.random.choice(list(range(len(train_data))), size=100000, replace=False)\n",
        "SVM_clf_word2vec.fit(word2vec_train_x.toarray(), y_train)"
      ],
      "execution_count": null,
      "outputs": [
        {
          "output_type": "stream",
          "text": [
            "CPU times: user 17min 58s, sys: 1.05 s, total: 17min 59s\n",
            "Wall time: 17min 54s\n"
          ],
          "name": "stdout"
        },
        {
          "output_type": "stream",
          "text": [
            "/usr/local/lib/python3.7/dist-packages/sklearn/svm/_base.py:947: ConvergenceWarning: Liblinear failed to converge, increase the number of iterations.\n",
            "  \"the number of iterations.\", ConvergenceWarning)\n"
          ],
          "name": "stderr"
        }
      ]
    },
    {
      "cell_type": "code",
      "metadata": {
        "id": "EhPbEI5sEqMJ"
      },
      "source": [
        "word2vec_SVM_clf_train_pred = SVM_clf_word2vec.predict(word2vec_train_x.toarray())\n",
        "word2vec_SVM_clf_test_pred = SVM_clf_word2vec.predict(word2vec_test_x.toarray())"
      ],
      "execution_count": null,
      "outputs": []
    },
    {
      "cell_type": "code",
      "metadata": {
        "colab": {
          "base_uri": "https://localhost:8080/",
          "height": 449
        },
        "id": "V_jWxFpYEqMK",
        "outputId": "7d7414b3-d2d3-4e06-a1da-13ca5f60e327"
      },
      "source": [
        "print(\"SVM report on train data\")\n",
        "classification_rep(word2vec_SVM_clf_train_pred, y_train)"
      ],
      "execution_count": null,
      "outputs": [
        {
          "output_type": "stream",
          "text": [
            "SVM report on train data\n",
            "              precision    recall  f1-score   support\n",
            "\n",
            "     class 0       0.71      0.18      0.28    404225\n",
            "     class 1       0.53      0.93      0.67    404735\n",
            "\n",
            "    accuracy                           0.55    808960\n",
            "   macro avg       0.62      0.55      0.48    808960\n",
            "weighted avg       0.62      0.55      0.48    808960\n",
            "\n"
          ],
          "name": "stdout"
        },
        {
          "output_type": "display_data",
          "data": {
            "image/png": "[encoded data removed]",
            "text/plain": [
              "<Figure size 432x288 with 1 Axes>"
            ]
          },
          "metadata": {
            "tags": [],
            "needs_background": "light"
          }
        }
      ]
    },
    {
      "cell_type": "code",
      "metadata": {
        "colab": {
          "base_uri": "https://localhost:8080/",
          "height": 449
        },
        "id": "_FktksSLEqMK",
        "outputId": "554002b0-7325-4885-cb92-6529db807ea6"
      },
      "source": [
        "print(\"SVM report on test data\")\n",
        "classification_rep(word2vec_SVM_clf_test_pred, y_test)"
      ],
      "execution_count": null,
      "outputs": [
        {
          "output_type": "stream",
          "text": [
            "SVM report on test data\n",
            "              precision    recall  f1-score   support\n",
            "\n",
            "     class 0       0.70      0.18      0.28    101180\n",
            "     class 1       0.53      0.93      0.67    100633\n",
            "\n",
            "    accuracy                           0.55    201813\n",
            "   macro avg       0.62      0.55      0.48    201813\n",
            "weighted avg       0.62      0.55      0.48    201813\n",
            "\n"
          ],
          "name": "stdout"
        },
        {
          "output_type": "display_data",
          "data": {
            "image/png": "[encoded data removed]",
            "text/plain": [
              "<Figure size 432x288 with 1 Axes>"
            ]
          },
          "metadata": {
            "tags": [],
            "needs_background": "light"
          }
        }
      ]
    },
    {
      "cell_type": "markdown",
      "metadata": {
        "id": "pTRlH5DkEqMK"
      },
      "source": [
        "<p style=\"font-size:40px; text-align: right;\" ><b>Nueral Network</b></p>\n"
      ]
    },
    {
      "cell_type": "code",
      "metadata": {
        "id": "_IyoMfOpEqMK"
      },
      "source": [
        "NN_clf_word2vec = Sequential()\n",
        "NN_clf_word2vec.add(Dense(50, input_dim=word2vec_train_x.shape[1], activation='relu'))\n",
        "NN_clf_word2vec.add(Dense(12, activation='relu'))\n",
        "NN_clf_word2vec.add(Dense(2, activation='softmax'))"
      ],
      "execution_count": null,
      "outputs": []
    },
    {
      "cell_type": "code",
      "metadata": {
        "id": "gnaGPU1DEqML"
      },
      "source": [
        "NN_clf_word2vec.compile(loss='binary_crossentropy', optimizer='adam', metrics=['accuracy'])"
      ],
      "execution_count": null,
      "outputs": []
    },
    {
      "cell_type": "code",
      "metadata": {
        "colab": {
          "base_uri": "https://localhost:8080/"
        },
        "id": "lf7JnrogEqML",
        "outputId": "54249e16-7e14-42bd-ead2-a2e0194d348c"
      },
      "source": [
        "%%time\n",
        "# using validation data with it uses lots of ram leading to crashing\n",
        "# NN_clf_Tf_Idf_history = NN_clf_Tf_Idf.fit(Tf_Idf_train_x.toarray(), y_train_one_hot, validation_data = (Tf_Idf_train_x.toarray(),y_test_one_hot), epochs=5, batch_size=64)\n",
        "NN_clf_word2vec_history = NN_clf_word2vec.fit(word2vec_train_x.toarray(), y_train_one_hot, epochs=30, batch_size=64)"
      ],
      "execution_count": null,
      "outputs": [
        {
          "output_type": "stream",
          "text": [
            "Epoch 1/30\n",
            "12640/12640 [==============================] - 21s 2ms/step - loss: 0.6300 - accuracy: 0.6407\n",
            "Epoch 2/30\n",
            "12640/12640 [==============================] - 20s 2ms/step - loss: 0.5877 - accuracy: 0.6823\n",
            "Epoch 3/30\n",
            "12640/12640 [==============================] - 20s 2ms/step - loss: 0.5800 - accuracy: 0.6892\n",
            "Epoch 4/30\n",
            "12640/12640 [==============================] - 20s 2ms/step - loss: 0.5744 - accuracy: 0.6941\n",
            "Epoch 5/30\n",
            "12640/12640 [==============================] - 20s 2ms/step - loss: 0.5703 - accuracy: 0.6970\n",
            "Epoch 6/30\n",
            "12640/12640 [==============================] - 20s 2ms/step - loss: 0.5688 - accuracy: 0.6999\n",
            "Epoch 7/30\n",
            "12640/12640 [==============================] - 20s 2ms/step - loss: 0.5672 - accuracy: 0.6998\n",
            "Epoch 8/30\n",
            "12640/12640 [==============================] - 20s 2ms/step - loss: 0.5658 - accuracy: 0.7016\n",
            "Epoch 9/30\n",
            "12640/12640 [==============================] - 20s 2ms/step - loss: 0.5649 - accuracy: 0.7025\n",
            "Epoch 10/30\n",
            "12640/12640 [==============================] - 20s 2ms/step - loss: 0.5632 - accuracy: 0.7032\n",
            "Epoch 11/30\n",
            "12640/12640 [==============================] - 20s 2ms/step - loss: 0.5618 - accuracy: 0.7050\n",
            "Epoch 12/30\n",
            "12640/12640 [==============================] - 20s 2ms/step - loss: 0.5616 - accuracy: 0.7060\n",
            "Epoch 13/30\n",
            "12640/12640 [==============================] - 20s 2ms/step - loss: 0.5607 - accuracy: 0.7051\n",
            "Epoch 14/30\n",
            "12640/12640 [==============================] - 20s 2ms/step - loss: 0.5607 - accuracy: 0.7055\n",
            "Epoch 15/30\n",
            "12640/12640 [==============================] - 20s 2ms/step - loss: 0.5603 - accuracy: 0.7061\n",
            "Epoch 16/30\n",
            "12640/12640 [==============================] - 20s 2ms/step - loss: 0.5602 - accuracy: 0.7064\n",
            "Epoch 17/30\n",
            "12640/12640 [==============================] - 20s 2ms/step - loss: 0.5590 - accuracy: 0.7074\n",
            "Epoch 18/30\n",
            "12640/12640 [==============================] - 20s 2ms/step - loss: 0.5586 - accuracy: 0.7085\n",
            "Epoch 19/30\n",
            "12640/12640 [==============================] - 20s 2ms/step - loss: 0.5577 - accuracy: 0.7082\n",
            "Epoch 20/30\n",
            "12640/12640 [==============================] - 20s 2ms/step - loss: 0.5574 - accuracy: 0.7089\n",
            "Epoch 21/30\n",
            "12640/12640 [==============================] - 20s 2ms/step - loss: 0.5568 - accuracy: 0.7095\n",
            "Epoch 22/30\n",
            "12640/12640 [==============================] - 20s 2ms/step - loss: 0.5568 - accuracy: 0.7093\n",
            "Epoch 23/30\n",
            "12640/12640 [==============================] - 20s 2ms/step - loss: 0.5563 - accuracy: 0.7096\n",
            "Epoch 24/30\n",
            "12640/12640 [==============================] - 20s 2ms/step - loss: 0.5560 - accuracy: 0.7097\n",
            "Epoch 25/30\n",
            "12640/12640 [==============================] - 20s 2ms/step - loss: 0.5561 - accuracy: 0.7105\n",
            "Epoch 26/30\n",
            "12640/12640 [==============================] - 20s 2ms/step - loss: 0.5544 - accuracy: 0.7109\n",
            "Epoch 27/30\n",
            "12640/12640 [==============================] - 20s 2ms/step - loss: 0.5562 - accuracy: 0.7100\n",
            "Epoch 28/30\n",
            "12640/12640 [==============================] - 20s 2ms/step - loss: 0.5552 - accuracy: 0.7109\n",
            "Epoch 29/30\n",
            "12640/12640 [==============================] - 20s 2ms/step - loss: 0.5557 - accuracy: 0.7107\n",
            "Epoch 30/30\n",
            "12640/12640 [==============================] - 20s 2ms/step - loss: 0.5544 - accuracy: 0.7115\n",
            "CPU times: user 12min 1s, sys: 56.8 s, total: 12min 58s\n",
            "Wall time: 9min 56s\n"
          ],
          "name": "stdout"
        }
      ]
    },
    {
      "cell_type": "code",
      "metadata": {
        "id": "J40DzT5pEqML"
      },
      "source": [
        "word2vec_NN_clf_train_pred = NN_clf_word2vec.predict(word2vec_train_x.toarray())\n",
        "word2vec_NN_clf_train_pred = np.array([np.argmax(word2vec_NN_clf_train_pred[i]) for i in range(len(word2vec_NN_clf_train_pred))])\n",
        "\n",
        "word2vec_NN_clf_test_pred = NN_clf_word2vec.predict(word2vec_test_x.toarray())\n",
        "word2vec_NN_clf_test_pred = np.array([np.argmax(word2vec_NN_clf_test_pred[i]) for i in range(len(word2vec_NN_clf_test_pred))])"
      ],
      "execution_count": null,
      "outputs": []
    },
    {
      "cell_type": "code",
      "metadata": {
        "colab": {
          "base_uri": "https://localhost:8080/",
          "height": 449
        },
        "id": "_7PnEyyEEqML",
        "outputId": "fe30568e-45fc-43eb-884d-761444237343"
      },
      "source": [
        "print(\"NN report on train data\")\n",
        "classification_rep(word2vec_NN_clf_train_pred, y_train)"
      ],
      "execution_count": null,
      "outputs": [
        {
          "output_type": "stream",
          "text": [
            "NN report on train data\n",
            "              precision    recall  f1-score   support\n",
            "\n",
            "     class 0       0.71      0.72      0.71    404225\n",
            "     class 1       0.72      0.70      0.71    404735\n",
            "\n",
            "    accuracy                           0.71    808960\n",
            "   macro avg       0.71      0.71      0.71    808960\n",
            "weighted avg       0.71      0.71      0.71    808960\n",
            "\n"
          ],
          "name": "stdout"
        },
        {
          "output_type": "display_data",
          "data": {
            "image/png": "[encoded data removed]",
            "text/plain": [
              "<Figure size 432x288 with 1 Axes>"
            ]
          },
          "metadata": {
            "tags": [],
            "needs_background": "light"
          }
        }
      ]
    },
    {
      "cell_type": "code",
      "metadata": {
        "colab": {
          "base_uri": "https://localhost:8080/",
          "height": 449
        },
        "id": "MTcW8wyHEqML",
        "outputId": "3f7e15cf-f181-468a-ee5e-585907fc423c"
      },
      "source": [
        "print(\"NN report on test data\")\n",
        "classification_rep(word2vec_NN_clf_test_pred, y_test)"
      ],
      "execution_count": null,
      "outputs": [
        {
          "output_type": "stream",
          "text": [
            "NN report on test data\n",
            "              precision    recall  f1-score   support\n",
            "\n",
            "     class 0       0.70      0.71      0.70    101180\n",
            "     class 1       0.70      0.69      0.70    100633\n",
            "\n",
            "    accuracy                           0.70    201813\n",
            "   macro avg       0.70      0.70      0.70    201813\n",
            "weighted avg       0.70      0.70      0.70    201813\n",
            "\n"
          ],
          "name": "stdout"
        },
        {
          "output_type": "display_data",
          "data": {
            "image/png": "[encoded data removed]",
            "text/plain": [
              "<Figure size 432x288 with 1 Axes>"
            ]
          },
          "metadata": {
            "tags": [],
            "needs_background": "light"
          }
        }
      ]
    },
    {
      "cell_type": "code",
      "metadata": {
        "id": "txTmQb5LO7jW"
      },
      "source": [
        "word2vec_NN_clf_test_pred"
      ],
      "execution_count": null,
      "outputs": []
    },
    {
      "cell_type": "code",
      "metadata": {
        "colab": {
          "base_uri": "https://localhost:8080/",
          "height": 295
        },
        "id": "qpreLtnvEqML",
        "outputId": "5e00e477-aace-44aa-a834-8015d3225ec5"
      },
      "source": [
        "plt.plot(NN_clf_word2vec_history.history['accuracy'])\n",
        "plt.plot(NN_clf_word2vec_history.history['accuracy'])\n",
        "plt.plot(NN_clf_word2vec_history.history['loss'])\n",
        "plt.title('Model accuracy')\n",
        "plt.ylabel('Accuracy')\n",
        "plt.xlabel('Epoch')\n",
        "plt.legend(['accuracy', 'loss'], loc='upper left')\n",
        "plt.show()"
      ],
      "execution_count": null,
      "outputs": [
        {
          "output_type": "display_data",
          "data": {
            "image/png": "[encoded data removed]",
            "text/plain": [
              "<Figure size 432x288 with 1 Axes>"
            ]
          },
          "metadata": {
            "tags": [],
            "needs_background": "light"
          }
        }
      ]
    },
    {
      "cell_type": "markdown",
      "metadata": {
        "id": "5byXdpDk_6iU"
      },
      "source": [
        "# <p style=\"font-size:40px; text-align: right;\" ><b>Testing FastText</b></p>\n"
      ]
    },
    {
      "cell_type": "code",
      "metadata": {
        "id": "R5Sr8OyVLNh_"
      },
      "source": [
        ""
      ],
      "execution_count": null,
      "outputs": []
    }
  ]
}